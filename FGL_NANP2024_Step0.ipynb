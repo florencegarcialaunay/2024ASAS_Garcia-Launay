{
 "cells": [
  {
   "cell_type": "code",
   "execution_count": 1,
   "id": "273010f4-2b8f-4092-92e8-4e32f5ee8afb",
   "metadata": {
    "execution": {
     "iopub.execute_input": "2024-07-01T15:10:41.481707Z",
     "iopub.status.busy": "2024-07-01T15:10:41.481040Z",
     "iopub.status.idle": "2024-07-01T15:10:41.490494Z",
     "shell.execute_reply": "2024-07-01T15:10:41.488876Z",
     "shell.execute_reply.started": "2024-07-01T15:10:41.481614Z"
    }
   },
   "outputs": [],
   "source": [
    "################################################################################################\n",
    "# OBJECTIVE:  # First individual-based model of a pen of fattening pigs - no nutritional consideration\n",
    "# AUTHOR: Florence Garcia-Launay (florence.garcia-launay@inrae.fr) #\n",
    "# LICENCE: CC0 1.0 Universal (CC0 1.0), Public Domain Dedication #\n",
    "# LAST UPDATE: 2024-07-05 #\n",
    "# VERSIONS : Python 3.11\n",
    "################################################################################################"
   ]
  },
  {
   "cell_type": "code",
   "execution_count": 161,
   "id": "9e3cb3db-17c4-4dad-807f-bfca9ca326be",
   "metadata": {
    "execution": {
     "iopub.execute_input": "2024-07-09T13:40:05.735217Z",
     "iopub.status.busy": "2024-07-09T13:40:05.734615Z",
     "iopub.status.idle": "2024-07-09T13:40:05.744083Z",
     "shell.execute_reply": "2024-07-09T13:40:05.741797Z",
     "shell.execute_reply.started": "2024-07-09T13:40:05.735166Z"
    }
   },
   "outputs": [],
   "source": [
    "# to be executed if Classes_Step0 is modified\n",
    "import sys\n",
    "del sys.modules['Classes_Step0']"
   ]
  },
  {
   "cell_type": "code",
   "execution_count": 162,
   "id": "5442ec6a-9aff-41db-a294-fc0baab9b49b",
   "metadata": {
    "execution": {
     "iopub.execute_input": "2024-07-09T13:40:06.363195Z",
     "iopub.status.busy": "2024-07-09T13:40:06.362610Z",
     "iopub.status.idle": "2024-07-09T13:40:06.377543Z",
     "shell.execute_reply": "2024-07-09T13:40:06.375845Z",
     "shell.execute_reply.started": "2024-07-09T13:40:06.363145Z"
    }
   },
   "outputs": [],
   "source": [
    "# to import the modules necessary\n",
    "from Classes_Step0 import *\n",
    "from csv import *\n",
    "import plotly.express as px"
   ]
  },
  {
   "cell_type": "code",
   "execution_count": 163,
   "id": "6fbe1570-e5c7-4869-951e-81ec5369879f",
   "metadata": {
    "execution": {
     "iopub.execute_input": "2024-07-09T13:40:07.084781Z",
     "iopub.status.busy": "2024-07-09T13:40:07.084160Z",
     "iopub.status.idle": "2024-07-09T13:40:07.101554Z",
     "shell.execute_reply": "2024-07-09T13:40:07.100421Z",
     "shell.execute_reply.started": "2024-07-09T13:40:07.084732Z"
    }
   },
   "outputs": [],
   "source": [
    "# initializing the objects\n",
    "param_nbpigs = 400 # work with a batch of 400 pigs \n",
    "\n",
    "My_Batch = Batch(nb_pigs = param_nbpigs, ID='B0')\n"
   ]
  },
  {
   "cell_type": "code",
   "execution_count": 164,
   "id": "7b511a20-96d1-4ced-8f24-b3e8c2a9f291",
   "metadata": {
    "execution": {
     "iopub.execute_input": "2024-07-09T13:40:07.740249Z",
     "iopub.status.busy": "2024-07-09T13:40:07.739612Z",
     "iopub.status.idle": "2024-07-09T13:40:07.751307Z",
     "shell.execute_reply": "2024-07-09T13:40:07.749662Z",
     "shell.execute_reply.started": "2024-07-09T13:40:07.740201Z"
    }
   },
   "outputs": [],
   "source": [
    "# Preparing output files\n",
    "\n",
    "f_perf = open(\"Performances %s .txt\" % ('_Step0'), \"w\")\n",
    "print(\n",
    "    \"Pig\" + ' ' + \"delivery\"  + ' ' + \"AgeInit_d\" + ' ' + \"SlaughterAge_d\" + ' ' + \"BWInit_kg\" + ' ' + \"SlaughterBW_kg\" + ' ' + \"ADG_kg_d\", file=f_perf)\n",
    "f_perf.flush()\n",
    "\n",
    "f_daily = open(\"Daily_output %s.txt\" % ('Step_0'), \"w\")\n",
    "print(\n",
    "    \"Pig\" + ' ' + \"Age_d\" + ' ' + \"BW_kg\" + ' ' + \"\" + ' ' + \"Daily_Gain_kg\" , file=f_daily)\n",
    "f_daily.flush()\n",
    "\n"
   ]
  },
  {
   "cell_type": "code",
   "execution_count": 165,
   "id": "4b69ea59-7555-4f9b-b490-030177ccb480",
   "metadata": {
    "execution": {
     "iopub.execute_input": "2024-07-09T13:40:08.431867Z",
     "iopub.status.busy": "2024-07-09T13:40:08.431207Z",
     "iopub.status.idle": "2024-07-09T13:40:09.156257Z",
     "shell.execute_reply": "2024-07-09T13:40:09.154696Z",
     "shell.execute_reply.started": "2024-07-09T13:40:08.431754Z"
    }
   },
   "outputs": [],
   "source": [
    "# Simulation\n",
    "param_duration = 120 # maximum fattening duration is 120 days\n",
    "\n",
    "AGENDA = {(param_duration): ['My_Batch.delivery(param_duration, f_perf, i)'], \n",
    "          (param_duration-7): ['My_Batch.delivery(param_duration, f_perf, i)'],\n",
    "          (param_duration-14): ['My_Batch.delivery(param_duration, f_perf, i)'], \n",
    "          (param_duration-21): ['My_Batch.delivery(param_duration, f_perf, i)'],\n",
    "          (param_duration-28): ['My_Batch.delivery(param_duration, f_perf, i)']}\n",
    "\n",
    "for i in range(param_duration + 1):\n",
    "    My_Batch.batch_growth(param_duration, f_daily, i)\n",
    "    if i in AGENDA.keys():\n",
    "        for evs in AGENDA[i]:\n",
    "            exec(evs)\n",
    "\n",
    "f_perf.close()\n",
    "f_daily.close()\n",
    "    "
   ]
  },
  {
   "cell_type": "code",
   "execution_count": 166,
   "id": "0c5a3698-90e5-498e-a7c9-189263c2f806",
   "metadata": {
    "execution": {
     "iopub.execute_input": "2024-07-09T13:40:09.172875Z",
     "iopub.status.busy": "2024-07-09T13:40:09.172290Z",
     "iopub.status.idle": "2024-07-09T13:40:09.222723Z",
     "shell.execute_reply": "2024-07-09T13:40:09.221817Z",
     "shell.execute_reply.started": "2024-07-09T13:40:09.172825Z"
    }
   },
   "outputs": [
    {
     "name": "stderr",
     "output_type": "stream",
     "text": [
      "/tmp/ipykernel_4009337/928498986.py:2: ParserWarning:\n",
      "\n",
      "Length of header or names does not match length of data. This leads to a loss of data with index_col=False.\n",
      "\n"
     ]
    },
    {
     "data": {
      "application/vnd.plotly.v1+json": {
       "config": {
        "plotlyServerURL": "https://plot.ly"
       },
       "data": [
        {
         "alignmentgroup": "True",
         "hovertemplate": "SlaughterBW_kg=%{y}<extra></extra>",
         "legendgroup": "",
         "marker": {
          "color": "#636efa"
         },
         "name": "",
         "notched": false,
         "offsetgroup": "",
         "orientation": "v",
         "showlegend": false,
         "type": "box",
         "x0": " ",
         "xaxis": "x",
         "y": [
          120.914,
          129.276,
          122.612,
          120.486,
          120.073,
          135.737,
          124.786,
          122.158,
          122.996,
          138.97,
          121.246,
          127.611,
          120.183,
          124.553,
          123.907,
          124.183,
          123.762,
          121.147,
          122.999,
          140.664,
          126.371,
          125.114,
          124.706,
          133.126,
          127.08,
          121.594,
          135.467,
          121.209,
          136.826,
          127.949,
          125.436,
          123.761,
          132.647,
          129.347,
          129.407,
          125.306,
          123.616,
          122.03,
          129.732,
          124.664,
          125.726,
          120.444,
          134.097,
          120.684,
          136.444,
          120.936,
          123.161,
          122.952,
          121.465,
          131.457,
          127.444,
          121.561,
          122.307,
          127.473,
          127.344,
          124.623,
          132.266,
          131.112,
          120.333,
          122.416,
          127.633,
          128.632,
          121.621,
          121.008,
          125.412,
          121.169,
          122.004,
          125.096,
          127.718,
          124.142,
          122.802,
          120.206,
          120.844,
          120.368,
          124.056,
          124.865,
          122.416,
          122.699,
          120.341,
          121.151,
          120.77,
          123.65,
          124.143,
          121.041,
          123.35,
          124.779,
          123.718,
          124.961,
          120.458,
          122.404,
          123.869,
          122.903,
          121.956,
          124.839,
          124.012,
          123.78,
          121.096,
          122.343,
          122.881,
          120.874,
          122.202,
          122.887,
          120.371,
          120.567,
          121.328,
          121.801,
          120.164,
          121.55,
          122.713,
          121.788,
          120.655,
          121.657,
          124.986,
          121.285,
          121.978,
          121.04,
          120.859,
          124.111,
          124.766,
          121.182,
          120.486,
          121.996,
          123.069,
          123.749,
          120.427,
          124.174,
          121.442,
          121.385,
          122.06,
          122.167,
          122.266,
          123.956,
          123.272,
          120.37,
          124.983,
          123.976,
          124.752,
          120.684,
          122.954,
          122.571,
          122.567,
          125.306,
          120.372,
          121.681,
          122.268,
          120.971,
          122.467,
          123.443,
          122.254,
          120.77,
          120.437,
          120.152,
          122.569,
          122.685,
          124.561,
          122.259,
          121.338,
          123.774,
          123.92,
          120.904,
          120.201,
          121.241,
          122.333,
          123.899,
          122.105,
          121.01,
          120.588,
          123.948,
          120.397,
          122.545,
          122.791,
          124.035,
          124.371,
          120.021,
          123.05,
          120.716,
          121.192,
          121.67,
          123.094,
          123.628,
          123.461,
          122.851,
          120.947,
          120.843,
          120.584,
          123.958,
          121.417,
          122.008,
          121.623,
          121.336,
          122.088,
          120.612,
          123.813,
          122.095,
          121.659,
          122.642,
          120.275,
          122.678,
          122.285,
          120.508,
          123.536,
          122.195,
          120.106,
          121.777,
          123.561,
          123.253,
          121.332,
          121.592,
          123.924,
          123.833,
          123.506,
          124.582,
          120.423,
          120.113,
          123.744,
          123.571,
          121.831,
          120.442,
          124.085,
          120.111,
          122.022,
          122.302,
          122.621,
          120.281,
          122.096,
          124.016,
          122.482,
          121.672,
          122.792,
          122.789,
          121.59,
          123.428,
          121.243,
          121.692,
          120.203,
          123.615,
          122.875,
          124.032,
          120.775,
          121.97,
          124.675,
          122.542,
          122.211,
          122.973,
          121.738,
          123.608,
          123.622,
          122.758,
          122.954,
          121.07,
          122.701,
          122.066,
          122.737,
          123.826,
          123.075,
          124.02,
          121.285,
          120.129,
          122.722,
          122.134,
          123.236,
          122.947,
          121.772,
          122.154,
          122.836,
          120.444,
          121.499,
          122.085,
          122.984,
          122.49,
          122.776,
          121.236,
          120.999,
          123.076,
          122.992,
          122.503,
          123.982,
          121.542,
          122.098,
          122.014,
          122.497,
          123.535,
          122.883,
          121.392,
          123.524,
          123.769,
          122.051,
          123.059,
          120.393,
          122.469,
          123.855,
          120.685,
          121.574,
          120.409,
          120.31,
          124.446,
          120.001,
          121.485,
          121.468,
          123.307,
          122.222,
          122.721,
          121.422,
          116.875,
          121.306,
          111.173,
          119.009,
          118.386,
          120.932,
          108.715,
          122.865,
          120.621,
          113.544,
          117.023,
          119.355,
          118.224,
          117.811,
          121.329,
          120.058,
          122.37,
          120.725,
          123.007,
          122.796,
          122.767,
          118.412,
          115.414,
          117.363,
          105.251,
          114.086,
          122.314,
          109.112,
          121.307,
          121.324,
          119.074,
          111.088,
          114.414,
          113.628,
          122.92,
          122.883,
          117.905,
          118.73,
          118.911,
          122.238,
          111.761,
          104.974,
          109.457,
          117.806,
          117.242,
          122.861,
          100.982,
          116.448,
          107.248
         ],
         "y0": " ",
         "yaxis": "y"
        }
       ],
       "layout": {
        "autosize": true,
        "boxmode": "group",
        "legend": {
         "tracegroupgap": 0
        },
        "margin": {
         "t": 60
        },
        "template": {
         "data": {
          "bar": [
           {
            "error_x": {
             "color": "#2a3f5f"
            },
            "error_y": {
             "color": "#2a3f5f"
            },
            "marker": {
             "line": {
              "color": "#E5ECF6",
              "width": 0.5
             },
             "pattern": {
              "fillmode": "overlay",
              "size": 10,
              "solidity": 0.2
             }
            },
            "type": "bar"
           }
          ],
          "barpolar": [
           {
            "marker": {
             "line": {
              "color": "#E5ECF6",
              "width": 0.5
             },
             "pattern": {
              "fillmode": "overlay",
              "size": 10,
              "solidity": 0.2
             }
            },
            "type": "barpolar"
           }
          ],
          "carpet": [
           {
            "aaxis": {
             "endlinecolor": "#2a3f5f",
             "gridcolor": "white",
             "linecolor": "white",
             "minorgridcolor": "white",
             "startlinecolor": "#2a3f5f"
            },
            "baxis": {
             "endlinecolor": "#2a3f5f",
             "gridcolor": "white",
             "linecolor": "white",
             "minorgridcolor": "white",
             "startlinecolor": "#2a3f5f"
            },
            "type": "carpet"
           }
          ],
          "choropleth": [
           {
            "colorbar": {
             "outlinewidth": 0,
             "ticks": ""
            },
            "type": "choropleth"
           }
          ],
          "contour": [
           {
            "colorbar": {
             "outlinewidth": 0,
             "ticks": ""
            },
            "colorscale": [
             [
              0,
              "#0d0887"
             ],
             [
              0.1111111111111111,
              "#46039f"
             ],
             [
              0.2222222222222222,
              "#7201a8"
             ],
             [
              0.3333333333333333,
              "#9c179e"
             ],
             [
              0.4444444444444444,
              "#bd3786"
             ],
             [
              0.5555555555555556,
              "#d8576b"
             ],
             [
              0.6666666666666666,
              "#ed7953"
             ],
             [
              0.7777777777777778,
              "#fb9f3a"
             ],
             [
              0.8888888888888888,
              "#fdca26"
             ],
             [
              1,
              "#f0f921"
             ]
            ],
            "type": "contour"
           }
          ],
          "contourcarpet": [
           {
            "colorbar": {
             "outlinewidth": 0,
             "ticks": ""
            },
            "type": "contourcarpet"
           }
          ],
          "heatmap": [
           {
            "colorbar": {
             "outlinewidth": 0,
             "ticks": ""
            },
            "colorscale": [
             [
              0,
              "#0d0887"
             ],
             [
              0.1111111111111111,
              "#46039f"
             ],
             [
              0.2222222222222222,
              "#7201a8"
             ],
             [
              0.3333333333333333,
              "#9c179e"
             ],
             [
              0.4444444444444444,
              "#bd3786"
             ],
             [
              0.5555555555555556,
              "#d8576b"
             ],
             [
              0.6666666666666666,
              "#ed7953"
             ],
             [
              0.7777777777777778,
              "#fb9f3a"
             ],
             [
              0.8888888888888888,
              "#fdca26"
             ],
             [
              1,
              "#f0f921"
             ]
            ],
            "type": "heatmap"
           }
          ],
          "heatmapgl": [
           {
            "colorbar": {
             "outlinewidth": 0,
             "ticks": ""
            },
            "colorscale": [
             [
              0,
              "#0d0887"
             ],
             [
              0.1111111111111111,
              "#46039f"
             ],
             [
              0.2222222222222222,
              "#7201a8"
             ],
             [
              0.3333333333333333,
              "#9c179e"
             ],
             [
              0.4444444444444444,
              "#bd3786"
             ],
             [
              0.5555555555555556,
              "#d8576b"
             ],
             [
              0.6666666666666666,
              "#ed7953"
             ],
             [
              0.7777777777777778,
              "#fb9f3a"
             ],
             [
              0.8888888888888888,
              "#fdca26"
             ],
             [
              1,
              "#f0f921"
             ]
            ],
            "type": "heatmapgl"
           }
          ],
          "histogram": [
           {
            "marker": {
             "pattern": {
              "fillmode": "overlay",
              "size": 10,
              "solidity": 0.2
             }
            },
            "type": "histogram"
           }
          ],
          "histogram2d": [
           {
            "colorbar": {
             "outlinewidth": 0,
             "ticks": ""
            },
            "colorscale": [
             [
              0,
              "#0d0887"
             ],
             [
              0.1111111111111111,
              "#46039f"
             ],
             [
              0.2222222222222222,
              "#7201a8"
             ],
             [
              0.3333333333333333,
              "#9c179e"
             ],
             [
              0.4444444444444444,
              "#bd3786"
             ],
             [
              0.5555555555555556,
              "#d8576b"
             ],
             [
              0.6666666666666666,
              "#ed7953"
             ],
             [
              0.7777777777777778,
              "#fb9f3a"
             ],
             [
              0.8888888888888888,
              "#fdca26"
             ],
             [
              1,
              "#f0f921"
             ]
            ],
            "type": "histogram2d"
           }
          ],
          "histogram2dcontour": [
           {
            "colorbar": {
             "outlinewidth": 0,
             "ticks": ""
            },
            "colorscale": [
             [
              0,
              "#0d0887"
             ],
             [
              0.1111111111111111,
              "#46039f"
             ],
             [
              0.2222222222222222,
              "#7201a8"
             ],
             [
              0.3333333333333333,
              "#9c179e"
             ],
             [
              0.4444444444444444,
              "#bd3786"
             ],
             [
              0.5555555555555556,
              "#d8576b"
             ],
             [
              0.6666666666666666,
              "#ed7953"
             ],
             [
              0.7777777777777778,
              "#fb9f3a"
             ],
             [
              0.8888888888888888,
              "#fdca26"
             ],
             [
              1,
              "#f0f921"
             ]
            ],
            "type": "histogram2dcontour"
           }
          ],
          "mesh3d": [
           {
            "colorbar": {
             "outlinewidth": 0,
             "ticks": ""
            },
            "type": "mesh3d"
           }
          ],
          "parcoords": [
           {
            "line": {
             "colorbar": {
              "outlinewidth": 0,
              "ticks": ""
             }
            },
            "type": "parcoords"
           }
          ],
          "pie": [
           {
            "automargin": true,
            "type": "pie"
           }
          ],
          "scatter": [
           {
            "fillpattern": {
             "fillmode": "overlay",
             "size": 10,
             "solidity": 0.2
            },
            "type": "scatter"
           }
          ],
          "scatter3d": [
           {
            "line": {
             "colorbar": {
              "outlinewidth": 0,
              "ticks": ""
             }
            },
            "marker": {
             "colorbar": {
              "outlinewidth": 0,
              "ticks": ""
             }
            },
            "type": "scatter3d"
           }
          ],
          "scattercarpet": [
           {
            "marker": {
             "colorbar": {
              "outlinewidth": 0,
              "ticks": ""
             }
            },
            "type": "scattercarpet"
           }
          ],
          "scattergeo": [
           {
            "marker": {
             "colorbar": {
              "outlinewidth": 0,
              "ticks": ""
             }
            },
            "type": "scattergeo"
           }
          ],
          "scattergl": [
           {
            "marker": {
             "colorbar": {
              "outlinewidth": 0,
              "ticks": ""
             }
            },
            "type": "scattergl"
           }
          ],
          "scattermapbox": [
           {
            "marker": {
             "colorbar": {
              "outlinewidth": 0,
              "ticks": ""
             }
            },
            "type": "scattermapbox"
           }
          ],
          "scatterpolar": [
           {
            "marker": {
             "colorbar": {
              "outlinewidth": 0,
              "ticks": ""
             }
            },
            "type": "scatterpolar"
           }
          ],
          "scatterpolargl": [
           {
            "marker": {
             "colorbar": {
              "outlinewidth": 0,
              "ticks": ""
             }
            },
            "type": "scatterpolargl"
           }
          ],
          "scatterternary": [
           {
            "marker": {
             "colorbar": {
              "outlinewidth": 0,
              "ticks": ""
             }
            },
            "type": "scatterternary"
           }
          ],
          "surface": [
           {
            "colorbar": {
             "outlinewidth": 0,
             "ticks": ""
            },
            "colorscale": [
             [
              0,
              "#0d0887"
             ],
             [
              0.1111111111111111,
              "#46039f"
             ],
             [
              0.2222222222222222,
              "#7201a8"
             ],
             [
              0.3333333333333333,
              "#9c179e"
             ],
             [
              0.4444444444444444,
              "#bd3786"
             ],
             [
              0.5555555555555556,
              "#d8576b"
             ],
             [
              0.6666666666666666,
              "#ed7953"
             ],
             [
              0.7777777777777778,
              "#fb9f3a"
             ],
             [
              0.8888888888888888,
              "#fdca26"
             ],
             [
              1,
              "#f0f921"
             ]
            ],
            "type": "surface"
           }
          ],
          "table": [
           {
            "cells": {
             "fill": {
              "color": "#EBF0F8"
             },
             "line": {
              "color": "white"
             }
            },
            "header": {
             "fill": {
              "color": "#C8D4E3"
             },
             "line": {
              "color": "white"
             }
            },
            "type": "table"
           }
          ]
         },
         "layout": {
          "annotationdefaults": {
           "arrowcolor": "#2a3f5f",
           "arrowhead": 0,
           "arrowwidth": 1
          },
          "autotypenumbers": "strict",
          "coloraxis": {
           "colorbar": {
            "outlinewidth": 0,
            "ticks": ""
           }
          },
          "colorscale": {
           "diverging": [
            [
             0,
             "#8e0152"
            ],
            [
             0.1,
             "#c51b7d"
            ],
            [
             0.2,
             "#de77ae"
            ],
            [
             0.3,
             "#f1b6da"
            ],
            [
             0.4,
             "#fde0ef"
            ],
            [
             0.5,
             "#f7f7f7"
            ],
            [
             0.6,
             "#e6f5d0"
            ],
            [
             0.7,
             "#b8e186"
            ],
            [
             0.8,
             "#7fbc41"
            ],
            [
             0.9,
             "#4d9221"
            ],
            [
             1,
             "#276419"
            ]
           ],
           "sequential": [
            [
             0,
             "#0d0887"
            ],
            [
             0.1111111111111111,
             "#46039f"
            ],
            [
             0.2222222222222222,
             "#7201a8"
            ],
            [
             0.3333333333333333,
             "#9c179e"
            ],
            [
             0.4444444444444444,
             "#bd3786"
            ],
            [
             0.5555555555555556,
             "#d8576b"
            ],
            [
             0.6666666666666666,
             "#ed7953"
            ],
            [
             0.7777777777777778,
             "#fb9f3a"
            ],
            [
             0.8888888888888888,
             "#fdca26"
            ],
            [
             1,
             "#f0f921"
            ]
           ],
           "sequentialminus": [
            [
             0,
             "#0d0887"
            ],
            [
             0.1111111111111111,
             "#46039f"
            ],
            [
             0.2222222222222222,
             "#7201a8"
            ],
            [
             0.3333333333333333,
             "#9c179e"
            ],
            [
             0.4444444444444444,
             "#bd3786"
            ],
            [
             0.5555555555555556,
             "#d8576b"
            ],
            [
             0.6666666666666666,
             "#ed7953"
            ],
            [
             0.7777777777777778,
             "#fb9f3a"
            ],
            [
             0.8888888888888888,
             "#fdca26"
            ],
            [
             1,
             "#f0f921"
            ]
           ]
          },
          "colorway": [
           "#636efa",
           "#EF553B",
           "#00cc96",
           "#ab63fa",
           "#FFA15A",
           "#19d3f3",
           "#FF6692",
           "#B6E880",
           "#FF97FF",
           "#FECB52"
          ],
          "font": {
           "color": "#2a3f5f"
          },
          "geo": {
           "bgcolor": "white",
           "lakecolor": "white",
           "landcolor": "#E5ECF6",
           "showlakes": true,
           "showland": true,
           "subunitcolor": "white"
          },
          "hoverlabel": {
           "align": "left"
          },
          "hovermode": "closest",
          "mapbox": {
           "style": "light"
          },
          "paper_bgcolor": "white",
          "plot_bgcolor": "#E5ECF6",
          "polar": {
           "angularaxis": {
            "gridcolor": "white",
            "linecolor": "white",
            "ticks": ""
           },
           "bgcolor": "#E5ECF6",
           "radialaxis": {
            "gridcolor": "white",
            "linecolor": "white",
            "ticks": ""
           }
          },
          "scene": {
           "xaxis": {
            "backgroundcolor": "#E5ECF6",
            "gridcolor": "white",
            "gridwidth": 2,
            "linecolor": "white",
            "showbackground": true,
            "ticks": "",
            "zerolinecolor": "white"
           },
           "yaxis": {
            "backgroundcolor": "#E5ECF6",
            "gridcolor": "white",
            "gridwidth": 2,
            "linecolor": "white",
            "showbackground": true,
            "ticks": "",
            "zerolinecolor": "white"
           },
           "zaxis": {
            "backgroundcolor": "#E5ECF6",
            "gridcolor": "white",
            "gridwidth": 2,
            "linecolor": "white",
            "showbackground": true,
            "ticks": "",
            "zerolinecolor": "white"
           }
          },
          "shapedefaults": {
           "line": {
            "color": "#2a3f5f"
           }
          },
          "ternary": {
           "aaxis": {
            "gridcolor": "white",
            "linecolor": "white",
            "ticks": ""
           },
           "baxis": {
            "gridcolor": "white",
            "linecolor": "white",
            "ticks": ""
           },
           "bgcolor": "#E5ECF6",
           "caxis": {
            "gridcolor": "white",
            "linecolor": "white",
            "ticks": ""
           }
          },
          "title": {
           "x": 0.05
          },
          "xaxis": {
           "automargin": true,
           "gridcolor": "white",
           "linecolor": "white",
           "ticks": "",
           "title": {
            "standoff": 15
           },
           "zerolinecolor": "white",
           "zerolinewidth": 2
          },
          "yaxis": {
           "automargin": true,
           "gridcolor": "white",
           "linecolor": "white",
           "ticks": "",
           "title": {
            "standoff": 15
           },
           "zerolinecolor": "white",
           "zerolinewidth": 2
          }
         }
        },
        "xaxis": {
         "anchor": "y",
         "autorange": true,
         "domain": [
          0,
          1
         ],
         "range": [
          -0.5,
          0.5
         ],
         "type": "category"
        },
        "yaxis": {
         "anchor": "x",
         "domain": [
          0,
          1
         ],
         "range": [
          100,
          150
         ],
         "title": {
          "text": "SlaughterBW_kg"
         },
         "type": "linear"
        }
       }
      },
      "image/png": "[encoded data removed]",
      "text/html": [
       "<div>                            <div id=\"4cf99d2c-70fe-4d1f-8032-d33f1c4fd708\" class=\"plotly-graph-div\" style=\"height:500px; width:100%;\"></div>            <script type=\"text/javascript\">                require([\"plotly\"], function(Plotly) {                    window.PLOTLYENV=window.PLOTLYENV || {};                                    if (document.getElementById(\"4cf99d2c-70fe-4d1f-8032-d33f1c4fd708\")) {                    Plotly.newPlot(                        \"4cf99d2c-70fe-4d1f-8032-d33f1c4fd708\",                        [{\"alignmentgroup\":\"True\",\"hovertemplate\":\"SlaughterBW_kg=%{y}<extra></extra>\",\"legendgroup\":\"\",\"marker\":{\"color\":\"#636efa\"},\"name\":\"\",\"notched\":false,\"offsetgroup\":\"\",\"orientation\":\"v\",\"showlegend\":false,\"x0\":\" \",\"xaxis\":\"x\",\"y\":[120.914,129.276,122.612,120.486,120.073,135.737,124.786,122.158,122.996,138.97,121.246,127.611,120.183,124.553,123.907,124.183,123.762,121.147,122.999,140.664,126.371,125.114,124.706,133.126,127.08,121.594,135.467,121.209,136.826,127.949,125.436,123.761,132.647,129.347,129.407,125.306,123.616,122.03,129.732,124.664,125.726,120.444,134.097,120.684,136.444,120.936,123.161,122.952,121.465,131.457,127.444,121.561,122.307,127.473,127.344,124.623,132.266,131.112,120.333,122.416,127.633,128.632,121.621,121.008,125.412,121.169,122.004,125.096,127.718,124.142,122.802,120.206,120.844,120.368,124.056,124.865,122.416,122.699,120.341,121.151,120.77,123.65,124.143,121.041,123.35,124.779,123.718,124.961,120.458,122.404,123.869,122.903,121.956,124.839,124.012,123.78,121.096,122.343,122.881,120.874,122.202,122.887,120.371,120.567,121.328,121.801,120.164,121.55,122.713,121.788,120.655,121.657,124.986,121.285,121.978,121.04,120.859,124.111,124.766,121.182,120.486,121.996,123.069,123.749,120.427,124.174,121.442,121.385,122.06,122.167,122.266,123.956,123.272,120.37,124.983,123.976,124.752,120.684,122.954,122.571,122.567,125.306,120.372,121.681,122.268,120.971,122.467,123.443,122.254,120.77,120.437,120.152,122.569,122.685,124.561,122.259,121.338,123.774,123.92,120.904,120.201,121.241,122.333,123.899,122.105,121.01,120.588,123.948,120.397,122.545,122.791,124.035,124.371,120.021,123.05,120.716,121.192,121.67,123.094,123.628,123.461,122.851,120.947,120.843,120.584,123.958,121.417,122.008,121.623,121.336,122.088,120.612,123.813,122.095,121.659,122.642,120.275,122.678,122.285,120.508,123.536,122.195,120.106,121.777,123.561,123.253,121.332,121.592,123.924,123.833,123.506,124.582,120.423,120.113,123.744,123.571,121.831,120.442,124.085,120.111,122.022,122.302,122.621,120.281,122.096,124.016,122.482,121.672,122.792,122.789,121.59,123.428,121.243,121.692,120.203,123.615,122.875,124.032,120.775,121.97,124.675,122.542,122.211,122.973,121.738,123.608,123.622,122.758,122.954,121.07,122.701,122.066,122.737,123.826,123.075,124.02,121.285,120.129,122.722,122.134,123.236,122.947,121.772,122.154,122.836,120.444,121.499,122.085,122.984,122.49,122.776,121.236,120.999,123.076,122.992,122.503,123.982,121.542,122.098,122.014,122.497,123.535,122.883,121.392,123.524,123.769,122.051,123.059,120.393,122.469,123.855,120.685,121.574,120.409,120.31,124.446,120.001,121.485,121.468,123.307,122.222,122.721,121.422,116.875,121.306,111.173,119.009,118.386,120.932,108.715,122.865,120.621,113.544,117.023,119.355,118.224,117.811,121.329,120.058,122.37,120.725,123.007,122.796,122.767,118.412,115.414,117.363,105.251,114.086,122.314,109.112,121.307,121.324,119.074,111.088,114.414,113.628,122.92,122.883,117.905,118.73,118.911,122.238,111.761,104.974,109.457,117.806,117.242,122.861,100.982,116.448,107.248],\"y0\":\" \",\"yaxis\":\"y\",\"type\":\"box\"}],                        {\"template\":{\"data\":{\"histogram2dcontour\":[{\"type\":\"histogram2dcontour\",\"colorbar\":{\"outlinewidth\":0,\"ticks\":\"\"},\"colorscale\":[[0.0,\"#0d0887\"],[0.1111111111111111,\"#46039f\"],[0.2222222222222222,\"#7201a8\"],[0.3333333333333333,\"#9c179e\"],[0.4444444444444444,\"#bd3786\"],[0.5555555555555556,\"#d8576b\"],[0.6666666666666666,\"#ed7953\"],[0.7777777777777778,\"#fb9f3a\"],[0.8888888888888888,\"#fdca26\"],[1.0,\"#f0f921\"]]}],\"choropleth\":[{\"type\":\"choropleth\",\"colorbar\":{\"outlinewidth\":0,\"ticks\":\"\"}}],\"histogram2d\":[{\"type\":\"histogram2d\",\"colorbar\":{\"outlinewidth\":0,\"ticks\":\"\"},\"colorscale\":[[0.0,\"#0d0887\"],[0.1111111111111111,\"#46039f\"],[0.2222222222222222,\"#7201a8\"],[0.3333333333333333,\"#9c179e\"],[0.4444444444444444,\"#bd3786\"],[0.5555555555555556,\"#d8576b\"],[0.6666666666666666,\"#ed7953\"],[0.7777777777777778,\"#fb9f3a\"],[0.8888888888888888,\"#fdca26\"],[1.0,\"#f0f921\"]]}],\"heatmap\":[{\"type\":\"heatmap\",\"colorbar\":{\"outlinewidth\":0,\"ticks\":\"\"},\"colorscale\":[[0.0,\"#0d0887\"],[0.1111111111111111,\"#46039f\"],[0.2222222222222222,\"#7201a8\"],[0.3333333333333333,\"#9c179e\"],[0.4444444444444444,\"#bd3786\"],[0.5555555555555556,\"#d8576b\"],[0.6666666666666666,\"#ed7953\"],[0.7777777777777778,\"#fb9f3a\"],[0.8888888888888888,\"#fdca26\"],[1.0,\"#f0f921\"]]}],\"heatmapgl\":[{\"type\":\"heatmapgl\",\"colorbar\":{\"outlinewidth\":0,\"ticks\":\"\"},\"colorscale\":[[0.0,\"#0d0887\"],[0.1111111111111111,\"#46039f\"],[0.2222222222222222,\"#7201a8\"],[0.3333333333333333,\"#9c179e\"],[0.4444444444444444,\"#bd3786\"],[0.5555555555555556,\"#d8576b\"],[0.6666666666666666,\"#ed7953\"],[0.7777777777777778,\"#fb9f3a\"],[0.8888888888888888,\"#fdca26\"],[1.0,\"#f0f921\"]]}],\"contourcarpet\":[{\"type\":\"contourcarpet\",\"colorbar\":{\"outlinewidth\":0,\"ticks\":\"\"}}],\"contour\":[{\"type\":\"contour\",\"colorbar\":{\"outlinewidth\":0,\"ticks\":\"\"},\"colorscale\":[[0.0,\"#0d0887\"],[0.1111111111111111,\"#46039f\"],[0.2222222222222222,\"#7201a8\"],[0.3333333333333333,\"#9c179e\"],[0.4444444444444444,\"#bd3786\"],[0.5555555555555556,\"#d8576b\"],[0.6666666666666666,\"#ed7953\"],[0.7777777777777778,\"#fb9f3a\"],[0.8888888888888888,\"#fdca26\"],[1.0,\"#f0f921\"]]}],\"surface\":[{\"type\":\"surface\",\"colorbar\":{\"outlinewidth\":0,\"ticks\":\"\"},\"colorscale\":[[0.0,\"#0d0887\"],[0.1111111111111111,\"#46039f\"],[0.2222222222222222,\"#7201a8\"],[0.3333333333333333,\"#9c179e\"],[0.4444444444444444,\"#bd3786\"],[0.5555555555555556,\"#d8576b\"],[0.6666666666666666,\"#ed7953\"],[0.7777777777777778,\"#fb9f3a\"],[0.8888888888888888,\"#fdca26\"],[1.0,\"#f0f921\"]]}],\"mesh3d\":[{\"type\":\"mesh3d\",\"colorbar\":{\"outlinewidth\":0,\"ticks\":\"\"}}],\"scatter\":[{\"fillpattern\":{\"fillmode\":\"overlay\",\"size\":10,\"solidity\":0.2},\"type\":\"scatter\"}],\"parcoords\":[{\"type\":\"parcoords\",\"line\":{\"colorbar\":{\"outlinewidth\":0,\"ticks\":\"\"}}}],\"scatterpolargl\":[{\"type\":\"scatterpolargl\",\"marker\":{\"colorbar\":{\"outlinewidth\":0,\"ticks\":\"\"}}}],\"bar\":[{\"error_x\":{\"color\":\"#2a3f5f\"},\"error_y\":{\"color\":\"#2a3f5f\"},\"marker\":{\"line\":{\"color\":\"#E5ECF6\",\"width\":0.5},\"pattern\":{\"fillmode\":\"overlay\",\"size\":10,\"solidity\":0.2}},\"type\":\"bar\"}],\"scattergeo\":[{\"type\":\"scattergeo\",\"marker\":{\"colorbar\":{\"outlinewidth\":0,\"ticks\":\"\"}}}],\"scatterpolar\":[{\"type\":\"scatterpolar\",\"marker\":{\"colorbar\":{\"outlinewidth\":0,\"ticks\":\"\"}}}],\"histogram\":[{\"marker\":{\"pattern\":{\"fillmode\":\"overlay\",\"size\":10,\"solidity\":0.2}},\"type\":\"histogram\"}],\"scattergl\":[{\"type\":\"scattergl\",\"marker\":{\"colorbar\":{\"outlinewidth\":0,\"ticks\":\"\"}}}],\"scatter3d\":[{\"type\":\"scatter3d\",\"line\":{\"colorbar\":{\"outlinewidth\":0,\"ticks\":\"\"}},\"marker\":{\"colorbar\":{\"outlinewidth\":0,\"ticks\":\"\"}}}],\"scattermapbox\":[{\"type\":\"scattermapbox\",\"marker\":{\"colorbar\":{\"outlinewidth\":0,\"ticks\":\"\"}}}],\"scatterternary\":[{\"type\":\"scatterternary\",\"marker\":{\"colorbar\":{\"outlinewidth\":0,\"ticks\":\"\"}}}],\"scattercarpet\":[{\"type\":\"scattercarpet\",\"marker\":{\"colorbar\":{\"outlinewidth\":0,\"ticks\":\"\"}}}],\"carpet\":[{\"aaxis\":{\"endlinecolor\":\"#2a3f5f\",\"gridcolor\":\"white\",\"linecolor\":\"white\",\"minorgridcolor\":\"white\",\"startlinecolor\":\"#2a3f5f\"},\"baxis\":{\"endlinecolor\":\"#2a3f5f\",\"gridcolor\":\"white\",\"linecolor\":\"white\",\"minorgridcolor\":\"white\",\"startlinecolor\":\"#2a3f5f\"},\"type\":\"carpet\"}],\"table\":[{\"cells\":{\"fill\":{\"color\":\"#EBF0F8\"},\"line\":{\"color\":\"white\"}},\"header\":{\"fill\":{\"color\":\"#C8D4E3\"},\"line\":{\"color\":\"white\"}},\"type\":\"table\"}],\"barpolar\":[{\"marker\":{\"line\":{\"color\":\"#E5ECF6\",\"width\":0.5},\"pattern\":{\"fillmode\":\"overlay\",\"size\":10,\"solidity\":0.2}},\"type\":\"barpolar\"}],\"pie\":[{\"automargin\":true,\"type\":\"pie\"}]},\"layout\":{\"autotypenumbers\":\"strict\",\"colorway\":[\"#636efa\",\"#EF553B\",\"#00cc96\",\"#ab63fa\",\"#FFA15A\",\"#19d3f3\",\"#FF6692\",\"#B6E880\",\"#FF97FF\",\"#FECB52\"],\"font\":{\"color\":\"#2a3f5f\"},\"hovermode\":\"closest\",\"hoverlabel\":{\"align\":\"left\"},\"paper_bgcolor\":\"white\",\"plot_bgcolor\":\"#E5ECF6\",\"polar\":{\"bgcolor\":\"#E5ECF6\",\"angularaxis\":{\"gridcolor\":\"white\",\"linecolor\":\"white\",\"ticks\":\"\"},\"radialaxis\":{\"gridcolor\":\"white\",\"linecolor\":\"white\",\"ticks\":\"\"}},\"ternary\":{\"bgcolor\":\"#E5ECF6\",\"aaxis\":{\"gridcolor\":\"white\",\"linecolor\":\"white\",\"ticks\":\"\"},\"baxis\":{\"gridcolor\":\"white\",\"linecolor\":\"white\",\"ticks\":\"\"},\"caxis\":{\"gridcolor\":\"white\",\"linecolor\":\"white\",\"ticks\":\"\"}},\"coloraxis\":{\"colorbar\":{\"outlinewidth\":0,\"ticks\":\"\"}},\"colorscale\":{\"sequential\":[[0.0,\"#0d0887\"],[0.1111111111111111,\"#46039f\"],[0.2222222222222222,\"#7201a8\"],[0.3333333333333333,\"#9c179e\"],[0.4444444444444444,\"#bd3786\"],[0.5555555555555556,\"#d8576b\"],[0.6666666666666666,\"#ed7953\"],[0.7777777777777778,\"#fb9f3a\"],[0.8888888888888888,\"#fdca26\"],[1.0,\"#f0f921\"]],\"sequentialminus\":[[0.0,\"#0d0887\"],[0.1111111111111111,\"#46039f\"],[0.2222222222222222,\"#7201a8\"],[0.3333333333333333,\"#9c179e\"],[0.4444444444444444,\"#bd3786\"],[0.5555555555555556,\"#d8576b\"],[0.6666666666666666,\"#ed7953\"],[0.7777777777777778,\"#fb9f3a\"],[0.8888888888888888,\"#fdca26\"],[1.0,\"#f0f921\"]],\"diverging\":[[0,\"#8e0152\"],[0.1,\"#c51b7d\"],[0.2,\"#de77ae\"],[0.3,\"#f1b6da\"],[0.4,\"#fde0ef\"],[0.5,\"#f7f7f7\"],[0.6,\"#e6f5d0\"],[0.7,\"#b8e186\"],[0.8,\"#7fbc41\"],[0.9,\"#4d9221\"],[1,\"#276419\"]]},\"xaxis\":{\"gridcolor\":\"white\",\"linecolor\":\"white\",\"ticks\":\"\",\"title\":{\"standoff\":15},\"zerolinecolor\":\"white\",\"automargin\":true,\"zerolinewidth\":2},\"yaxis\":{\"gridcolor\":\"white\",\"linecolor\":\"white\",\"ticks\":\"\",\"title\":{\"standoff\":15},\"zerolinecolor\":\"white\",\"automargin\":true,\"zerolinewidth\":2},\"scene\":{\"xaxis\":{\"backgroundcolor\":\"#E5ECF6\",\"gridcolor\":\"white\",\"linecolor\":\"white\",\"showbackground\":true,\"ticks\":\"\",\"zerolinecolor\":\"white\",\"gridwidth\":2},\"yaxis\":{\"backgroundcolor\":\"#E5ECF6\",\"gridcolor\":\"white\",\"linecolor\":\"white\",\"showbackground\":true,\"ticks\":\"\",\"zerolinecolor\":\"white\",\"gridwidth\":2},\"zaxis\":{\"backgroundcolor\":\"#E5ECF6\",\"gridcolor\":\"white\",\"linecolor\":\"white\",\"showbackground\":true,\"ticks\":\"\",\"zerolinecolor\":\"white\",\"gridwidth\":2}},\"shapedefaults\":{\"line\":{\"color\":\"#2a3f5f\"}},\"annotationdefaults\":{\"arrowcolor\":\"#2a3f5f\",\"arrowhead\":0,\"arrowwidth\":1},\"geo\":{\"bgcolor\":\"white\",\"landcolor\":\"#E5ECF6\",\"subunitcolor\":\"white\",\"showland\":true,\"showlakes\":true,\"lakecolor\":\"white\"},\"title\":{\"x\":0.05},\"mapbox\":{\"style\":\"light\"}}},\"xaxis\":{\"anchor\":\"y\",\"domain\":[0.0,1.0]},\"yaxis\":{\"anchor\":\"x\",\"domain\":[0.0,1.0],\"title\":{\"text\":\"SlaughterBW_kg\"},\"range\":[100,150]},\"legend\":{\"tracegroupgap\":0},\"margin\":{\"t\":60},\"boxmode\":\"group\",\"height\":500},                        {\"responsive\": true}                    ).then(function(){\n",
       "                            \n",
       "var gd = document.getElementById('4cf99d2c-70fe-4d1f-8032-d33f1c4fd708');\n",
       "var x = new MutationObserver(function (mutations, observer) {{\n",
       "        var display = window.getComputedStyle(gd).display;\n",
       "        if (!display || display === 'none') {{\n",
       "            console.log([gd, 'removed!']);\n",
       "            Plotly.purge(gd);\n",
       "            observer.disconnect();\n",
       "        }}\n",
       "}});\n",
       "\n",
       "// Listen for the removal of the full notebook cells\n",
       "var notebookContainer = gd.closest('#notebook-container');\n",
       "if (notebookContainer) {{\n",
       "    x.observe(notebookContainer, {childList: true});\n",
       "}}\n",
       "\n",
       "// Listen for the clearing of the current output cell\n",
       "var outputEl = gd.closest('.output');\n",
       "if (outputEl) {{\n",
       "    x.observe(outputEl, {childList: true});\n",
       "}}\n",
       "\n",
       "                        })                };                });            </script>        </div>"
      ]
     },
     "metadata": {},
     "output_type": "display_data"
    }
   ],
   "source": [
    "# providing a simple graph with output file\n",
    "performances = pd.read_csv(\"Performances %s .txt\" % ('_Step0'), sep=' ', header =0, index_col= False)\n",
    "BW = px.box(performances,y='SlaughterBW_kg', height = 500, range_y = [100, 150])\n",
    "BW.show()\n"
   ]
  },
  {
   "cell_type": "code",
   "execution_count": null,
   "id": "36ed2cb4-97ea-470a-8788-ea56c1da5c5d",
   "metadata": {},
   "outputs": [],
   "source": []
  }
 ],
 "metadata": {
  "kernelspec": {
   "display_name": "Python 3 (ipykernel)",
   "language": "python",
   "name": "python3"
  },
  "language_info": {
   "codemirror_mode": {
    "name": "ipython",
    "version": 3
   },
   "file_extension": ".py",
   "mimetype": "text/x-python",
   "name": "python",
   "nbconvert_exporter": "python",
   "pygments_lexer": "ipython3",
   "version": "3.11.6"
  }
 },
 "nbformat": 4,
 "nbformat_minor": 5
}
