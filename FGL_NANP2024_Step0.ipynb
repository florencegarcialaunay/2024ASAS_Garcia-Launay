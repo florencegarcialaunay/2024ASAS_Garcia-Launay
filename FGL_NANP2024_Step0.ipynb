{
 "cells": [
  {
   "cell_type": "code",
   "execution_count": 1,
   "id": "273010f4-2b8f-4092-92e8-4e32f5ee8afb",
   "metadata": {
    "execution": {
     "iopub.execute_input": "2024-07-01T15:10:41.481707Z",
     "iopub.status.busy": "2024-07-01T15:10:41.481040Z",
     "iopub.status.idle": "2024-07-01T15:10:41.490494Z",
     "shell.execute_reply": "2024-07-01T15:10:41.488876Z",
     "shell.execute_reply.started": "2024-07-01T15:10:41.481614Z"
    }
   },
   "outputs": [],
   "source": [
    "################################################################################################\n",
    "# OBJECTIVE:  # First individual-based model of a pen of fattening pigs - no nutritional consideration\n",
    "# AUTHOR: Florence Garcia-Launay (florence.garcia-launay@inrae.fr) #\n",
    "# LICENCE: CC0 1.0 Universal (CC0 1.0), Public Domain Dedication #\n",
    "# LAST UPDATE: 2024-07-05 #\n",
    "# VERSIONS : Python 3.11\n",
    "################################################################################################"
   ]
  },
  {
   "cell_type": "code",
   "execution_count": 186,
   "id": "9e3cb3db-17c4-4dad-807f-bfca9ca326be",
   "metadata": {
    "execution": {
     "iopub.execute_input": "2024-07-15T16:26:41.125719Z",
     "iopub.status.busy": "2024-07-15T16:26:41.125031Z",
     "iopub.status.idle": "2024-07-15T16:26:41.133822Z",
     "shell.execute_reply": "2024-07-15T16:26:41.132222Z",
     "shell.execute_reply.started": "2024-07-15T16:26:41.125641Z"
    }
   },
   "outputs": [],
   "source": [
    "# to be executed if Classes_Step0 is modified\n",
    "import sys\n",
    "del sys.modules['Classes_Step0']"
   ]
  },
  {
   "cell_type": "code",
   "execution_count": 193,
   "id": "5442ec6a-9aff-41db-a294-fc0baab9b49b",
   "metadata": {
    "execution": {
     "iopub.execute_input": "2024-07-17T07:15:35.641517Z",
     "iopub.status.busy": "2024-07-17T07:15:35.640162Z",
     "iopub.status.idle": "2024-07-17T07:15:35.651297Z",
     "shell.execute_reply": "2024-07-17T07:15:35.649344Z",
     "shell.execute_reply.started": "2024-07-17T07:15:35.641461Z"
    }
   },
   "outputs": [],
   "source": [
    "# to import the modules necessary\n",
    "from Classes_Step0 import *\n",
    "from csv import *\n",
    "import plotly.express as px"
   ]
  },
  {
   "cell_type": "code",
   "execution_count": 194,
   "id": "6fbe1570-e5c7-4869-951e-81ec5369879f",
   "metadata": {
    "execution": {
     "iopub.execute_input": "2024-07-17T07:15:36.566769Z",
     "iopub.status.busy": "2024-07-17T07:15:36.566126Z",
     "iopub.status.idle": "2024-07-17T07:15:36.584273Z",
     "shell.execute_reply": "2024-07-17T07:15:36.583643Z",
     "shell.execute_reply.started": "2024-07-17T07:15:36.566718Z"
    }
   },
   "outputs": [],
   "source": [
    "# initializing the objects\n",
    "param_nbpigs = 400 # work with a batch of 400 pigs \n",
    "\n",
    "My_Batch = Batch(nb_pigs = param_nbpigs, ID='B0')\n"
   ]
  },
  {
   "cell_type": "code",
   "execution_count": 195,
   "id": "7b511a20-96d1-4ced-8f24-b3e8c2a9f291",
   "metadata": {
    "execution": {
     "iopub.execute_input": "2024-07-17T07:15:37.430746Z",
     "iopub.status.busy": "2024-07-17T07:15:37.429483Z",
     "iopub.status.idle": "2024-07-17T07:15:37.440490Z",
     "shell.execute_reply": "2024-07-17T07:15:37.439828Z",
     "shell.execute_reply.started": "2024-07-17T07:15:37.430688Z"
    }
   },
   "outputs": [],
   "source": [
    "# Preparing output files\n",
    "\n",
    "f_perf = open(\"Performances %s .txt\" % ('_Step0'), \"w\")\n",
    "print(\n",
    "    \"Pig\" + ' ' + \"delivery\"  + ' ' + \"AgeInit_d\" + ' ' + \"SlaughterAge_d\" + ' ' + \"BWInit_kg\" + ' ' + \"SlaughterBW_kg\" + ' ' + \"ADG_kg_d\", file=f_perf)\n",
    "f_perf.flush()\n",
    "\n",
    "f_daily = open(\"Daily_output %s.txt\" % ('Step_0'), \"w\")\n",
    "print(\n",
    "    \"Pig\" + ' ' + \"Age_d\" + ' ' + \"BW_kg\" + ' ' + \"Daily_Gain_kg\" , file=f_daily)\n",
    "f_daily.flush()\n",
    "\n"
   ]
  },
  {
   "cell_type": "code",
   "execution_count": 196,
   "id": "4b69ea59-7555-4f9b-b490-030177ccb480",
   "metadata": {
    "execution": {
     "iopub.execute_input": "2024-07-17T07:15:38.288057Z",
     "iopub.status.busy": "2024-07-17T07:15:38.286390Z",
     "iopub.status.idle": "2024-07-17T07:15:39.126985Z",
     "shell.execute_reply": "2024-07-17T07:15:39.125456Z",
     "shell.execute_reply.started": "2024-07-17T07:15:38.287999Z"
    }
   },
   "outputs": [],
   "source": [
    "# Simulation\n",
    "param_duration = 120 # maximum fattening duration is 120 days\n",
    "\n",
    "AGENDA = {(param_duration): ['My_Batch.delivery(param_duration, f_perf, i)'], \n",
    "          (param_duration-7): ['My_Batch.delivery(param_duration, f_perf, i)'],\n",
    "          (param_duration-14): ['My_Batch.delivery(param_duration, f_perf, i)'], \n",
    "          (param_duration-21): ['My_Batch.delivery(param_duration, f_perf, i)'],\n",
    "          (param_duration-28): ['My_Batch.delivery(param_duration, f_perf, i)']}\n",
    "\n",
    "for i in range(param_duration + 1):\n",
    "    My_Batch.batch_growth(param_duration, f_daily, i)\n",
    "    if i in AGENDA.keys():\n",
    "        for evs in AGENDA[i]:\n",
    "            exec(evs)\n",
    "\n",
    "f_perf.close()\n",
    "f_daily.close()\n",
    "    "
   ]
  },
  {
   "cell_type": "code",
   "execution_count": 197,
   "id": "0c5a3698-90e5-498e-a7c9-189263c2f806",
   "metadata": {
    "execution": {
     "iopub.execute_input": "2024-07-17T07:15:39.393516Z",
     "iopub.status.busy": "2024-07-17T07:15:39.391579Z",
     "iopub.status.idle": "2024-07-17T07:15:39.447641Z",
     "shell.execute_reply": "2024-07-17T07:15:39.446999Z",
     "shell.execute_reply.started": "2024-07-17T07:15:39.393441Z"
    }
   },
   "outputs": [
    {
     "data": {
      "application/vnd.plotly.v1+json": {
       "config": {
        "plotlyServerURL": "https://plot.ly"
       },
       "data": [
        {
         "alignmentgroup": "True",
         "hovertemplate": "SlaughterBW_kg=%{y}<extra></extra>",
         "legendgroup": "",
         "marker": {
          "color": "#636efa"
         },
         "name": "",
         "notched": false,
         "offsetgroup": "",
         "orientation": "v",
         "showlegend": false,
         "type": "box",
         "x0": " ",
         "xaxis": "x",
         "y": [
          124.889,
          129.353,
          123.828,
          124.904,
          133.252,
          122.919,
          120.644,
          135.18,
          123.356,
          122.069,
          120.191,
          130.759,
          126.779,
          131.664,
          144.787,
          121.451,
          123.308,
          122.769,
          123.811,
          121.759,
          132.712,
          121.861,
          131.42,
          126.167,
          124.192,
          123.913,
          121.188,
          131.963,
          126.219,
          121.503,
          122.769,
          126.736,
          120.216,
          130.733,
          132.347,
          129.192,
          123.335,
          133.504,
          120.52,
          124.475,
          122.826,
          126.103,
          121.208,
          135.597,
          123.796,
          125.903,
          120.711,
          144.415,
          124.752,
          120.032,
          132.646,
          121.321,
          126.625,
          123.346,
          122.942,
          123.616,
          140.289,
          122.432,
          124.833,
          125.016,
          122.912,
          120.657,
          129.807,
          126.805,
          130.528,
          120.499,
          132.048,
          127.359,
          121.94,
          135.341,
          126.968,
          123.629,
          122.184,
          123.638,
          122.119,
          120.342,
          123.353,
          121.665,
          129.764,
          125.136,
          125.251,
          126.705,
          120.004,
          142.022,
          121.806,
          132.295,
          131.8,
          126.71,
          121.675,
          122.191,
          120.727,
          124.786,
          121.175,
          124.062,
          120.481,
          125.112,
          124.209,
          123.62,
          124.009,
          120.289,
          121.837,
          120.471,
          123.577,
          122.532,
          121.004,
          122.479,
          120.345,
          123.35,
          120.366,
          123.989,
          123.122,
          120.307,
          124.774,
          120.041,
          120.226,
          122.528,
          125.077,
          125.103,
          121.988,
          122.456,
          123.551,
          123.408,
          123.534,
          120.078,
          122.004,
          124.509,
          120.09,
          122.97,
          124.6,
          122.446,
          122.791,
          123.215,
          120.351,
          124.281,
          120.547,
          120.813,
          121.103,
          122.287,
          120.104,
          120.327,
          122.628,
          121.795,
          122.626,
          123.546,
          122.267,
          124.64,
          122.592,
          120.407,
          124.85,
          122.738,
          123.601,
          120.44,
          122.577,
          122.88,
          120.822,
          120.396,
          120.866,
          121.9,
          120.875,
          123.944,
          120.478,
          122.12,
          123.161,
          121.757,
          122.357,
          122.354,
          123.268,
          121.611,
          122.191,
          125.693,
          124.201,
          123.326,
          120.387,
          120.415,
          123.256,
          122.762,
          121.8,
          122.237,
          121.601,
          120.476,
          122.249,
          122.901,
          121.566,
          120.483,
          122.8,
          121.793,
          121.568,
          121.875,
          122.509,
          122.309,
          121.784,
          123.764,
          124.432,
          122.304,
          121.455,
          122.784,
          123.91,
          121.914,
          123.125,
          122.576,
          120.314,
          123.196,
          122.515,
          121.092,
          121.028,
          123.255,
          123.967,
          121.753,
          120.103,
          120.426,
          123.338,
          120.595,
          122.484,
          124.098,
          120.415,
          121.629,
          121.723,
          120.64,
          121.62,
          124.092,
          124.11,
          120.511,
          120.087,
          121.922,
          123.588,
          124.251,
          120.436,
          122.638,
          123.385,
          120.156,
          122.255,
          122.547,
          124.261,
          121.668,
          121.84,
          120.014,
          120.567,
          121.503,
          122.211,
          123.869,
          123.387,
          120.806,
          121.333,
          120.795,
          120.065,
          123.134,
          123.522,
          123.741,
          122.4,
          122.459,
          123.79,
          122.472,
          120.932,
          122.483,
          122.112,
          121.872,
          120.987,
          121.28,
          120.837,
          122.634,
          123.527,
          122.875,
          121.569,
          122.931,
          121.265,
          122.609,
          120.193,
          121.501,
          121.493,
          122.478,
          123.194,
          123.223,
          123.44,
          122.813,
          120.456,
          122.002,
          123.527,
          123.971,
          121.621,
          121.626,
          122.426,
          121.292,
          122.804,
          120.75,
          122.589,
          120.742,
          120.994,
          122.957,
          124.03,
          123.527,
          121.321,
          121.514,
          122.645,
          123.612,
          121.101,
          122.42,
          123.918,
          123.797,
          115.421,
          121.203,
          116.87,
          118.02,
          108.036,
          114.758,
          119.267,
          115.405,
          119.635,
          122.603,
          122.766,
          120.002,
          117.465,
          111.105,
          111.604,
          115.864,
          117.987,
          109.78,
          109.623,
          116.869,
          117.655,
          120.14,
          123.07,
          113.481,
          113.42,
          114.53,
          110.159,
          114.699,
          117.078,
          121.351,
          118.732,
          111.994,
          123.46,
          115.808,
          109.768,
          115.636,
          109.362,
          112.342,
          120.287,
          108.731,
          116.802,
          113.365,
          111.181,
          120.127,
          113.602,
          113.212,
          112.158,
          116.066,
          123.101,
          112.787,
          117.267
         ],
         "y0": " ",
         "yaxis": "y"
        }
       ],
       "layout": {
        "autosize": true,
        "boxmode": "group",
        "legend": {
         "tracegroupgap": 0
        },
        "margin": {
         "t": 60
        },
        "template": {
         "data": {
          "bar": [
           {
            "error_x": {
             "color": "#2a3f5f"
            },
            "error_y": {
             "color": "#2a3f5f"
            },
            "marker": {
             "line": {
              "color": "#E5ECF6",
              "width": 0.5
             },
             "pattern": {
              "fillmode": "overlay",
              "size": 10,
              "solidity": 0.2
             }
            },
            "type": "bar"
           }
          ],
          "barpolar": [
           {
            "marker": {
             "line": {
              "color": "#E5ECF6",
              "width": 0.5
             },
             "pattern": {
              "fillmode": "overlay",
              "size": 10,
              "solidity": 0.2
             }
            },
            "type": "barpolar"
           }
          ],
          "carpet": [
           {
            "aaxis": {
             "endlinecolor": "#2a3f5f",
             "gridcolor": "white",
             "linecolor": "white",
             "minorgridcolor": "white",
             "startlinecolor": "#2a3f5f"
            },
            "baxis": {
             "endlinecolor": "#2a3f5f",
             "gridcolor": "white",
             "linecolor": "white",
             "minorgridcolor": "white",
             "startlinecolor": "#2a3f5f"
            },
            "type": "carpet"
           }
          ],
          "choropleth": [
           {
            "colorbar": {
             "outlinewidth": 0,
             "ticks": ""
            },
            "type": "choropleth"
           }
          ],
          "contour": [
           {
            "colorbar": {
             "outlinewidth": 0,
             "ticks": ""
            },
            "colorscale": [
             [
              0,
              "#0d0887"
             ],
             [
              0.1111111111111111,
              "#46039f"
             ],
             [
              0.2222222222222222,
              "#7201a8"
             ],
             [
              0.3333333333333333,
              "#9c179e"
             ],
             [
              0.4444444444444444,
              "#bd3786"
             ],
             [
              0.5555555555555556,
              "#d8576b"
             ],
             [
              0.6666666666666666,
              "#ed7953"
             ],
             [
              0.7777777777777778,
              "#fb9f3a"
             ],
             [
              0.8888888888888888,
              "#fdca26"
             ],
             [
              1,
              "#f0f921"
             ]
            ],
            "type": "contour"
           }
          ],
          "contourcarpet": [
           {
            "colorbar": {
             "outlinewidth": 0,
             "ticks": ""
            },
            "type": "contourcarpet"
           }
          ],
          "heatmap": [
           {
            "colorbar": {
             "outlinewidth": 0,
             "ticks": ""
            },
            "colorscale": [
             [
              0,
              "#0d0887"
             ],
             [
              0.1111111111111111,
              "#46039f"
             ],
             [
              0.2222222222222222,
              "#7201a8"
             ],
             [
              0.3333333333333333,
              "#9c179e"
             ],
             [
              0.4444444444444444,
              "#bd3786"
             ],
             [
              0.5555555555555556,
              "#d8576b"
             ],
             [
              0.6666666666666666,
              "#ed7953"
             ],
             [
              0.7777777777777778,
              "#fb9f3a"
             ],
             [
              0.8888888888888888,
              "#fdca26"
             ],
             [
              1,
              "#f0f921"
             ]
            ],
            "type": "heatmap"
           }
          ],
          "heatmapgl": [
           {
            "colorbar": {
             "outlinewidth": 0,
             "ticks": ""
            },
            "colorscale": [
             [
              0,
              "#0d0887"
             ],
             [
              0.1111111111111111,
              "#46039f"
             ],
             [
              0.2222222222222222,
              "#7201a8"
             ],
             [
              0.3333333333333333,
              "#9c179e"
             ],
             [
              0.4444444444444444,
              "#bd3786"
             ],
             [
              0.5555555555555556,
              "#d8576b"
             ],
             [
              0.6666666666666666,
              "#ed7953"
             ],
             [
              0.7777777777777778,
              "#fb9f3a"
             ],
             [
              0.8888888888888888,
              "#fdca26"
             ],
             [
              1,
              "#f0f921"
             ]
            ],
            "type": "heatmapgl"
           }
          ],
          "histogram": [
           {
            "marker": {
             "pattern": {
              "fillmode": "overlay",
              "size": 10,
              "solidity": 0.2
             }
            },
            "type": "histogram"
           }
          ],
          "histogram2d": [
           {
            "colorbar": {
             "outlinewidth": 0,
             "ticks": ""
            },
            "colorscale": [
             [
              0,
              "#0d0887"
             ],
             [
              0.1111111111111111,
              "#46039f"
             ],
             [
              0.2222222222222222,
              "#7201a8"
             ],
             [
              0.3333333333333333,
              "#9c179e"
             ],
             [
              0.4444444444444444,
              "#bd3786"
             ],
             [
              0.5555555555555556,
              "#d8576b"
             ],
             [
              0.6666666666666666,
              "#ed7953"
             ],
             [
              0.7777777777777778,
              "#fb9f3a"
             ],
             [
              0.8888888888888888,
              "#fdca26"
             ],
             [
              1,
              "#f0f921"
             ]
            ],
            "type": "histogram2d"
           }
          ],
          "histogram2dcontour": [
           {
            "colorbar": {
             "outlinewidth": 0,
             "ticks": ""
            },
            "colorscale": [
             [
              0,
              "#0d0887"
             ],
             [
              0.1111111111111111,
              "#46039f"
             ],
             [
              0.2222222222222222,
              "#7201a8"
             ],
             [
              0.3333333333333333,
              "#9c179e"
             ],
             [
              0.4444444444444444,
              "#bd3786"
             ],
             [
              0.5555555555555556,
              "#d8576b"
             ],
             [
              0.6666666666666666,
              "#ed7953"
             ],
             [
              0.7777777777777778,
              "#fb9f3a"
             ],
             [
              0.8888888888888888,
              "#fdca26"
             ],
             [
              1,
              "#f0f921"
             ]
            ],
            "type": "histogram2dcontour"
           }
          ],
          "mesh3d": [
           {
            "colorbar": {
             "outlinewidth": 0,
             "ticks": ""
            },
            "type": "mesh3d"
           }
          ],
          "parcoords": [
           {
            "line": {
             "colorbar": {
              "outlinewidth": 0,
              "ticks": ""
             }
            },
            "type": "parcoords"
           }
          ],
          "pie": [
           {
            "automargin": true,
            "type": "pie"
           }
          ],
          "scatter": [
           {
            "fillpattern": {
             "fillmode": "overlay",
             "size": 10,
             "solidity": 0.2
            },
            "type": "scatter"
           }
          ],
          "scatter3d": [
           {
            "line": {
             "colorbar": {
              "outlinewidth": 0,
              "ticks": ""
             }
            },
            "marker": {
             "colorbar": {
              "outlinewidth": 0,
              "ticks": ""
             }
            },
            "type": "scatter3d"
           }
          ],
          "scattercarpet": [
           {
            "marker": {
             "colorbar": {
              "outlinewidth": 0,
              "ticks": ""
             }
            },
            "type": "scattercarpet"
           }
          ],
          "scattergeo": [
           {
            "marker": {
             "colorbar": {
              "outlinewidth": 0,
              "ticks": ""
             }
            },
            "type": "scattergeo"
           }
          ],
          "scattergl": [
           {
            "marker": {
             "colorbar": {
              "outlinewidth": 0,
              "ticks": ""
             }
            },
            "type": "scattergl"
           }
          ],
          "scattermapbox": [
           {
            "marker": {
             "colorbar": {
              "outlinewidth": 0,
              "ticks": ""
             }
            },
            "type": "scattermapbox"
           }
          ],
          "scatterpolar": [
           {
            "marker": {
             "colorbar": {
              "outlinewidth": 0,
              "ticks": ""
             }
            },
            "type": "scatterpolar"
           }
          ],
          "scatterpolargl": [
           {
            "marker": {
             "colorbar": {
              "outlinewidth": 0,
              "ticks": ""
             }
            },
            "type": "scatterpolargl"
           }
          ],
          "scatterternary": [
           {
            "marker": {
             "colorbar": {
              "outlinewidth": 0,
              "ticks": ""
             }
            },
            "type": "scatterternary"
           }
          ],
          "surface": [
           {
            "colorbar": {
             "outlinewidth": 0,
             "ticks": ""
            },
            "colorscale": [
             [
              0,
              "#0d0887"
             ],
             [
              0.1111111111111111,
              "#46039f"
             ],
             [
              0.2222222222222222,
              "#7201a8"
             ],
             [
              0.3333333333333333,
              "#9c179e"
             ],
             [
              0.4444444444444444,
              "#bd3786"
             ],
             [
              0.5555555555555556,
              "#d8576b"
             ],
             [
              0.6666666666666666,
              "#ed7953"
             ],
             [
              0.7777777777777778,
              "#fb9f3a"
             ],
             [
              0.8888888888888888,
              "#fdca26"
             ],
             [
              1,
              "#f0f921"
             ]
            ],
            "type": "surface"
           }
          ],
          "table": [
           {
            "cells": {
             "fill": {
              "color": "#EBF0F8"
             },
             "line": {
              "color": "white"
             }
            },
            "header": {
             "fill": {
              "color": "#C8D4E3"
             },
             "line": {
              "color": "white"
             }
            },
            "type": "table"
           }
          ]
         },
         "layout": {
          "annotationdefaults": {
           "arrowcolor": "#2a3f5f",
           "arrowhead": 0,
           "arrowwidth": 1
          },
          "autotypenumbers": "strict",
          "coloraxis": {
           "colorbar": {
            "outlinewidth": 0,
            "ticks": ""
           }
          },
          "colorscale": {
           "diverging": [
            [
             0,
             "#8e0152"
            ],
            [
             0.1,
             "#c51b7d"
            ],
            [
             0.2,
             "#de77ae"
            ],
            [
             0.3,
             "#f1b6da"
            ],
            [
             0.4,
             "#fde0ef"
            ],
            [
             0.5,
             "#f7f7f7"
            ],
            [
             0.6,
             "#e6f5d0"
            ],
            [
             0.7,
             "#b8e186"
            ],
            [
             0.8,
             "#7fbc41"
            ],
            [
             0.9,
             "#4d9221"
            ],
            [
             1,
             "#276419"
            ]
           ],
           "sequential": [
            [
             0,
             "#0d0887"
            ],
            [
             0.1111111111111111,
             "#46039f"
            ],
            [
             0.2222222222222222,
             "#7201a8"
            ],
            [
             0.3333333333333333,
             "#9c179e"
            ],
            [
             0.4444444444444444,
             "#bd3786"
            ],
            [
             0.5555555555555556,
             "#d8576b"
            ],
            [
             0.6666666666666666,
             "#ed7953"
            ],
            [
             0.7777777777777778,
             "#fb9f3a"
            ],
            [
             0.8888888888888888,
             "#fdca26"
            ],
            [
             1,
             "#f0f921"
            ]
           ],
           "sequentialminus": [
            [
             0,
             "#0d0887"
            ],
            [
             0.1111111111111111,
             "#46039f"
            ],
            [
             0.2222222222222222,
             "#7201a8"
            ],
            [
             0.3333333333333333,
             "#9c179e"
            ],
            [
             0.4444444444444444,
             "#bd3786"
            ],
            [
             0.5555555555555556,
             "#d8576b"
            ],
            [
             0.6666666666666666,
             "#ed7953"
            ],
            [
             0.7777777777777778,
             "#fb9f3a"
            ],
            [
             0.8888888888888888,
             "#fdca26"
            ],
            [
             1,
             "#f0f921"
            ]
           ]
          },
          "colorway": [
           "#636efa",
           "#EF553B",
           "#00cc96",
           "#ab63fa",
           "#FFA15A",
           "#19d3f3",
           "#FF6692",
           "#B6E880",
           "#FF97FF",
           "#FECB52"
          ],
          "font": {
           "color": "#2a3f5f"
          },
          "geo": {
           "bgcolor": "white",
           "lakecolor": "white",
           "landcolor": "#E5ECF6",
           "showlakes": true,
           "showland": true,
           "subunitcolor": "white"
          },
          "hoverlabel": {
           "align": "left"
          },
          "hovermode": "closest",
          "mapbox": {
           "style": "light"
          },
          "paper_bgcolor": "white",
          "plot_bgcolor": "#E5ECF6",
          "polar": {
           "angularaxis": {
            "gridcolor": "white",
            "linecolor": "white",
            "ticks": ""
           },
           "bgcolor": "#E5ECF6",
           "radialaxis": {
            "gridcolor": "white",
            "linecolor": "white",
            "ticks": ""
           }
          },
          "scene": {
           "xaxis": {
            "backgroundcolor": "#E5ECF6",
            "gridcolor": "white",
            "gridwidth": 2,
            "linecolor": "white",
            "showbackground": true,
            "ticks": "",
            "zerolinecolor": "white"
           },
           "yaxis": {
            "backgroundcolor": "#E5ECF6",
            "gridcolor": "white",
            "gridwidth": 2,
            "linecolor": "white",
            "showbackground": true,
            "ticks": "",
            "zerolinecolor": "white"
           },
           "zaxis": {
            "backgroundcolor": "#E5ECF6",
            "gridcolor": "white",
            "gridwidth": 2,
            "linecolor": "white",
            "showbackground": true,
            "ticks": "",
            "zerolinecolor": "white"
           }
          },
          "shapedefaults": {
           "line": {
            "color": "#2a3f5f"
           }
          },
          "ternary": {
           "aaxis": {
            "gridcolor": "white",
            "linecolor": "white",
            "ticks": ""
           },
           "baxis": {
            "gridcolor": "white",
            "linecolor": "white",
            "ticks": ""
           },
           "bgcolor": "#E5ECF6",
           "caxis": {
            "gridcolor": "white",
            "linecolor": "white",
            "ticks": ""
           }
          },
          "title": {
           "x": 0.05
          },
          "xaxis": {
           "automargin": true,
           "gridcolor": "white",
           "linecolor": "white",
           "ticks": "",
           "title": {
            "standoff": 15
           },
           "zerolinecolor": "white",
           "zerolinewidth": 2
          },
          "yaxis": {
           "automargin": true,
           "gridcolor": "white",
           "linecolor": "white",
           "ticks": "",
           "title": {
            "standoff": 15
           },
           "zerolinecolor": "white",
           "zerolinewidth": 2
          }
         }
        },
        "xaxis": {
         "anchor": "y",
         "autorange": true,
         "domain": [
          0,
          1
         ],
         "range": [
          -0.5,
          0.5
         ],
         "type": "category"
        },
        "yaxis": {
         "anchor": "x",
         "domain": [
          0,
          1
         ],
         "range": [
          100,
          150
         ],
         "title": {
          "text": "SlaughterBW_kg"
         },
         "type": "linear"
        }
       }
      },
      "image/png": "[encoded data removed]",
      "text/html": [
       "<div>                            <div id=\"44b0db7b-30cd-42b6-bf74-a30c6bcd13d6\" class=\"plotly-graph-div\" style=\"height:500px; width:100%;\"></div>            <script type=\"text/javascript\">                require([\"plotly\"], function(Plotly) {                    window.PLOTLYENV=window.PLOTLYENV || {};                                    if (document.getElementById(\"44b0db7b-30cd-42b6-bf74-a30c6bcd13d6\")) {                    Plotly.newPlot(                        \"44b0db7b-30cd-42b6-bf74-a30c6bcd13d6\",                        [{\"alignmentgroup\":\"True\",\"hovertemplate\":\"SlaughterBW_kg=%{y}<extra></extra>\",\"legendgroup\":\"\",\"marker\":{\"color\":\"#636efa\"},\"name\":\"\",\"notched\":false,\"offsetgroup\":\"\",\"orientation\":\"v\",\"showlegend\":false,\"x0\":\" \",\"xaxis\":\"x\",\"y\":[124.889,129.353,123.828,124.904,133.252,122.919,120.644,135.18,123.356,122.069,120.191,130.759,126.779,131.664,144.787,121.451,123.308,122.769,123.811,121.759,132.712,121.861,131.42,126.167,124.192,123.913,121.188,131.963,126.219,121.503,122.769,126.736,120.216,130.733,132.347,129.192,123.335,133.504,120.52,124.475,122.826,126.103,121.208,135.597,123.796,125.903,120.711,144.415,124.752,120.032,132.646,121.321,126.625,123.346,122.942,123.616,140.289,122.432,124.833,125.016,122.912,120.657,129.807,126.805,130.528,120.499,132.048,127.359,121.94,135.341,126.968,123.629,122.184,123.638,122.119,120.342,123.353,121.665,129.764,125.136,125.251,126.705,120.004,142.022,121.806,132.295,131.8,126.71,121.675,122.191,120.727,124.786,121.175,124.062,120.481,125.112,124.209,123.62,124.009,120.289,121.837,120.471,123.577,122.532,121.004,122.479,120.345,123.35,120.366,123.989,123.122,120.307,124.774,120.041,120.226,122.528,125.077,125.103,121.988,122.456,123.551,123.408,123.534,120.078,122.004,124.509,120.09,122.97,124.6,122.446,122.791,123.215,120.351,124.281,120.547,120.813,121.103,122.287,120.104,120.327,122.628,121.795,122.626,123.546,122.267,124.64,122.592,120.407,124.85,122.738,123.601,120.44,122.577,122.88,120.822,120.396,120.866,121.9,120.875,123.944,120.478,122.12,123.161,121.757,122.357,122.354,123.268,121.611,122.191,125.693,124.201,123.326,120.387,120.415,123.256,122.762,121.8,122.237,121.601,120.476,122.249,122.901,121.566,120.483,122.8,121.793,121.568,121.875,122.509,122.309,121.784,123.764,124.432,122.304,121.455,122.784,123.91,121.914,123.125,122.576,120.314,123.196,122.515,121.092,121.028,123.255,123.967,121.753,120.103,120.426,123.338,120.595,122.484,124.098,120.415,121.629,121.723,120.64,121.62,124.092,124.11,120.511,120.087,121.922,123.588,124.251,120.436,122.638,123.385,120.156,122.255,122.547,124.261,121.668,121.84,120.014,120.567,121.503,122.211,123.869,123.387,120.806,121.333,120.795,120.065,123.134,123.522,123.741,122.4,122.459,123.79,122.472,120.932,122.483,122.112,121.872,120.987,121.28,120.837,122.634,123.527,122.875,121.569,122.931,121.265,122.609,120.193,121.501,121.493,122.478,123.194,123.223,123.44,122.813,120.456,122.002,123.527,123.971,121.621,121.626,122.426,121.292,122.804,120.75,122.589,120.742,120.994,122.957,124.03,123.527,121.321,121.514,122.645,123.612,121.101,122.42,123.918,123.797,115.421,121.203,116.87,118.02,108.036,114.758,119.267,115.405,119.635,122.603,122.766,120.002,117.465,111.105,111.604,115.864,117.987,109.78,109.623,116.869,117.655,120.14,123.07,113.481,113.42,114.53,110.159,114.699,117.078,121.351,118.732,111.994,123.46,115.808,109.768,115.636,109.362,112.342,120.287,108.731,116.802,113.365,111.181,120.127,113.602,113.212,112.158,116.066,123.101,112.787,117.267],\"y0\":\" \",\"yaxis\":\"y\",\"type\":\"box\"}],                        {\"template\":{\"data\":{\"histogram2dcontour\":[{\"type\":\"histogram2dcontour\",\"colorbar\":{\"outlinewidth\":0,\"ticks\":\"\"},\"colorscale\":[[0.0,\"#0d0887\"],[0.1111111111111111,\"#46039f\"],[0.2222222222222222,\"#7201a8\"],[0.3333333333333333,\"#9c179e\"],[0.4444444444444444,\"#bd3786\"],[0.5555555555555556,\"#d8576b\"],[0.6666666666666666,\"#ed7953\"],[0.7777777777777778,\"#fb9f3a\"],[0.8888888888888888,\"#fdca26\"],[1.0,\"#f0f921\"]]}],\"choropleth\":[{\"type\":\"choropleth\",\"colorbar\":{\"outlinewidth\":0,\"ticks\":\"\"}}],\"histogram2d\":[{\"type\":\"histogram2d\",\"colorbar\":{\"outlinewidth\":0,\"ticks\":\"\"},\"colorscale\":[[0.0,\"#0d0887\"],[0.1111111111111111,\"#46039f\"],[0.2222222222222222,\"#7201a8\"],[0.3333333333333333,\"#9c179e\"],[0.4444444444444444,\"#bd3786\"],[0.5555555555555556,\"#d8576b\"],[0.6666666666666666,\"#ed7953\"],[0.7777777777777778,\"#fb9f3a\"],[0.8888888888888888,\"#fdca26\"],[1.0,\"#f0f921\"]]}],\"heatmap\":[{\"type\":\"heatmap\",\"colorbar\":{\"outlinewidth\":0,\"ticks\":\"\"},\"colorscale\":[[0.0,\"#0d0887\"],[0.1111111111111111,\"#46039f\"],[0.2222222222222222,\"#7201a8\"],[0.3333333333333333,\"#9c179e\"],[0.4444444444444444,\"#bd3786\"],[0.5555555555555556,\"#d8576b\"],[0.6666666666666666,\"#ed7953\"],[0.7777777777777778,\"#fb9f3a\"],[0.8888888888888888,\"#fdca26\"],[1.0,\"#f0f921\"]]}],\"heatmapgl\":[{\"type\":\"heatmapgl\",\"colorbar\":{\"outlinewidth\":0,\"ticks\":\"\"},\"colorscale\":[[0.0,\"#0d0887\"],[0.1111111111111111,\"#46039f\"],[0.2222222222222222,\"#7201a8\"],[0.3333333333333333,\"#9c179e\"],[0.4444444444444444,\"#bd3786\"],[0.5555555555555556,\"#d8576b\"],[0.6666666666666666,\"#ed7953\"],[0.7777777777777778,\"#fb9f3a\"],[0.8888888888888888,\"#fdca26\"],[1.0,\"#f0f921\"]]}],\"contourcarpet\":[{\"type\":\"contourcarpet\",\"colorbar\":{\"outlinewidth\":0,\"ticks\":\"\"}}],\"contour\":[{\"type\":\"contour\",\"colorbar\":{\"outlinewidth\":0,\"ticks\":\"\"},\"colorscale\":[[0.0,\"#0d0887\"],[0.1111111111111111,\"#46039f\"],[0.2222222222222222,\"#7201a8\"],[0.3333333333333333,\"#9c179e\"],[0.4444444444444444,\"#bd3786\"],[0.5555555555555556,\"#d8576b\"],[0.6666666666666666,\"#ed7953\"],[0.7777777777777778,\"#fb9f3a\"],[0.8888888888888888,\"#fdca26\"],[1.0,\"#f0f921\"]]}],\"surface\":[{\"type\":\"surface\",\"colorbar\":{\"outlinewidth\":0,\"ticks\":\"\"},\"colorscale\":[[0.0,\"#0d0887\"],[0.1111111111111111,\"#46039f\"],[0.2222222222222222,\"#7201a8\"],[0.3333333333333333,\"#9c179e\"],[0.4444444444444444,\"#bd3786\"],[0.5555555555555556,\"#d8576b\"],[0.6666666666666666,\"#ed7953\"],[0.7777777777777778,\"#fb9f3a\"],[0.8888888888888888,\"#fdca26\"],[1.0,\"#f0f921\"]]}],\"mesh3d\":[{\"type\":\"mesh3d\",\"colorbar\":{\"outlinewidth\":0,\"ticks\":\"\"}}],\"scatter\":[{\"fillpattern\":{\"fillmode\":\"overlay\",\"size\":10,\"solidity\":0.2},\"type\":\"scatter\"}],\"parcoords\":[{\"type\":\"parcoords\",\"line\":{\"colorbar\":{\"outlinewidth\":0,\"ticks\":\"\"}}}],\"scatterpolargl\":[{\"type\":\"scatterpolargl\",\"marker\":{\"colorbar\":{\"outlinewidth\":0,\"ticks\":\"\"}}}],\"bar\":[{\"error_x\":{\"color\":\"#2a3f5f\"},\"error_y\":{\"color\":\"#2a3f5f\"},\"marker\":{\"line\":{\"color\":\"#E5ECF6\",\"width\":0.5},\"pattern\":{\"fillmode\":\"overlay\",\"size\":10,\"solidity\":0.2}},\"type\":\"bar\"}],\"scattergeo\":[{\"type\":\"scattergeo\",\"marker\":{\"colorbar\":{\"outlinewidth\":0,\"ticks\":\"\"}}}],\"scatterpolar\":[{\"type\":\"scatterpolar\",\"marker\":{\"colorbar\":{\"outlinewidth\":0,\"ticks\":\"\"}}}],\"histogram\":[{\"marker\":{\"pattern\":{\"fillmode\":\"overlay\",\"size\":10,\"solidity\":0.2}},\"type\":\"histogram\"}],\"scattergl\":[{\"type\":\"scattergl\",\"marker\":{\"colorbar\":{\"outlinewidth\":0,\"ticks\":\"\"}}}],\"scatter3d\":[{\"type\":\"scatter3d\",\"line\":{\"colorbar\":{\"outlinewidth\":0,\"ticks\":\"\"}},\"marker\":{\"colorbar\":{\"outlinewidth\":0,\"ticks\":\"\"}}}],\"scattermapbox\":[{\"type\":\"scattermapbox\",\"marker\":{\"colorbar\":{\"outlinewidth\":0,\"ticks\":\"\"}}}],\"scatterternary\":[{\"type\":\"scatterternary\",\"marker\":{\"colorbar\":{\"outlinewidth\":0,\"ticks\":\"\"}}}],\"scattercarpet\":[{\"type\":\"scattercarpet\",\"marker\":{\"colorbar\":{\"outlinewidth\":0,\"ticks\":\"\"}}}],\"carpet\":[{\"aaxis\":{\"endlinecolor\":\"#2a3f5f\",\"gridcolor\":\"white\",\"linecolor\":\"white\",\"minorgridcolor\":\"white\",\"startlinecolor\":\"#2a3f5f\"},\"baxis\":{\"endlinecolor\":\"#2a3f5f\",\"gridcolor\":\"white\",\"linecolor\":\"white\",\"minorgridcolor\":\"white\",\"startlinecolor\":\"#2a3f5f\"},\"type\":\"carpet\"}],\"table\":[{\"cells\":{\"fill\":{\"color\":\"#EBF0F8\"},\"line\":{\"color\":\"white\"}},\"header\":{\"fill\":{\"color\":\"#C8D4E3\"},\"line\":{\"color\":\"white\"}},\"type\":\"table\"}],\"barpolar\":[{\"marker\":{\"line\":{\"color\":\"#E5ECF6\",\"width\":0.5},\"pattern\":{\"fillmode\":\"overlay\",\"size\":10,\"solidity\":0.2}},\"type\":\"barpolar\"}],\"pie\":[{\"automargin\":true,\"type\":\"pie\"}]},\"layout\":{\"autotypenumbers\":\"strict\",\"colorway\":[\"#636efa\",\"#EF553B\",\"#00cc96\",\"#ab63fa\",\"#FFA15A\",\"#19d3f3\",\"#FF6692\",\"#B6E880\",\"#FF97FF\",\"#FECB52\"],\"font\":{\"color\":\"#2a3f5f\"},\"hovermode\":\"closest\",\"hoverlabel\":{\"align\":\"left\"},\"paper_bgcolor\":\"white\",\"plot_bgcolor\":\"#E5ECF6\",\"polar\":{\"bgcolor\":\"#E5ECF6\",\"angularaxis\":{\"gridcolor\":\"white\",\"linecolor\":\"white\",\"ticks\":\"\"},\"radialaxis\":{\"gridcolor\":\"white\",\"linecolor\":\"white\",\"ticks\":\"\"}},\"ternary\":{\"bgcolor\":\"#E5ECF6\",\"aaxis\":{\"gridcolor\":\"white\",\"linecolor\":\"white\",\"ticks\":\"\"},\"baxis\":{\"gridcolor\":\"white\",\"linecolor\":\"white\",\"ticks\":\"\"},\"caxis\":{\"gridcolor\":\"white\",\"linecolor\":\"white\",\"ticks\":\"\"}},\"coloraxis\":{\"colorbar\":{\"outlinewidth\":0,\"ticks\":\"\"}},\"colorscale\":{\"sequential\":[[0.0,\"#0d0887\"],[0.1111111111111111,\"#46039f\"],[0.2222222222222222,\"#7201a8\"],[0.3333333333333333,\"#9c179e\"],[0.4444444444444444,\"#bd3786\"],[0.5555555555555556,\"#d8576b\"],[0.6666666666666666,\"#ed7953\"],[0.7777777777777778,\"#fb9f3a\"],[0.8888888888888888,\"#fdca26\"],[1.0,\"#f0f921\"]],\"sequentialminus\":[[0.0,\"#0d0887\"],[0.1111111111111111,\"#46039f\"],[0.2222222222222222,\"#7201a8\"],[0.3333333333333333,\"#9c179e\"],[0.4444444444444444,\"#bd3786\"],[0.5555555555555556,\"#d8576b\"],[0.6666666666666666,\"#ed7953\"],[0.7777777777777778,\"#fb9f3a\"],[0.8888888888888888,\"#fdca26\"],[1.0,\"#f0f921\"]],\"diverging\":[[0,\"#8e0152\"],[0.1,\"#c51b7d\"],[0.2,\"#de77ae\"],[0.3,\"#f1b6da\"],[0.4,\"#fde0ef\"],[0.5,\"#f7f7f7\"],[0.6,\"#e6f5d0\"],[0.7,\"#b8e186\"],[0.8,\"#7fbc41\"],[0.9,\"#4d9221\"],[1,\"#276419\"]]},\"xaxis\":{\"gridcolor\":\"white\",\"linecolor\":\"white\",\"ticks\":\"\",\"title\":{\"standoff\":15},\"zerolinecolor\":\"white\",\"automargin\":true,\"zerolinewidth\":2},\"yaxis\":{\"gridcolor\":\"white\",\"linecolor\":\"white\",\"ticks\":\"\",\"title\":{\"standoff\":15},\"zerolinecolor\":\"white\",\"automargin\":true,\"zerolinewidth\":2},\"scene\":{\"xaxis\":{\"backgroundcolor\":\"#E5ECF6\",\"gridcolor\":\"white\",\"linecolor\":\"white\",\"showbackground\":true,\"ticks\":\"\",\"zerolinecolor\":\"white\",\"gridwidth\":2},\"yaxis\":{\"backgroundcolor\":\"#E5ECF6\",\"gridcolor\":\"white\",\"linecolor\":\"white\",\"showbackground\":true,\"ticks\":\"\",\"zerolinecolor\":\"white\",\"gridwidth\":2},\"zaxis\":{\"backgroundcolor\":\"#E5ECF6\",\"gridcolor\":\"white\",\"linecolor\":\"white\",\"showbackground\":true,\"ticks\":\"\",\"zerolinecolor\":\"white\",\"gridwidth\":2}},\"shapedefaults\":{\"line\":{\"color\":\"#2a3f5f\"}},\"annotationdefaults\":{\"arrowcolor\":\"#2a3f5f\",\"arrowhead\":0,\"arrowwidth\":1},\"geo\":{\"bgcolor\":\"white\",\"landcolor\":\"#E5ECF6\",\"subunitcolor\":\"white\",\"showland\":true,\"showlakes\":true,\"lakecolor\":\"white\"},\"title\":{\"x\":0.05},\"mapbox\":{\"style\":\"light\"}}},\"xaxis\":{\"anchor\":\"y\",\"domain\":[0.0,1.0]},\"yaxis\":{\"anchor\":\"x\",\"domain\":[0.0,1.0],\"title\":{\"text\":\"SlaughterBW_kg\"},\"range\":[100,150]},\"legend\":{\"tracegroupgap\":0},\"margin\":{\"t\":60},\"boxmode\":\"group\",\"height\":500},                        {\"responsive\": true}                    ).then(function(){\n",
       "                            \n",
       "var gd = document.getElementById('44b0db7b-30cd-42b6-bf74-a30c6bcd13d6');\n",
       "var x = new MutationObserver(function (mutations, observer) {{\n",
       "        var display = window.getComputedStyle(gd).display;\n",
       "        if (!display || display === 'none') {{\n",
       "            console.log([gd, 'removed!']);\n",
       "            Plotly.purge(gd);\n",
       "            observer.disconnect();\n",
       "        }}\n",
       "}});\n",
       "\n",
       "// Listen for the removal of the full notebook cells\n",
       "var notebookContainer = gd.closest('#notebook-container');\n",
       "if (notebookContainer) {{\n",
       "    x.observe(notebookContainer, {childList: true});\n",
       "}}\n",
       "\n",
       "// Listen for the clearing of the current output cell\n",
       "var outputEl = gd.closest('.output');\n",
       "if (outputEl) {{\n",
       "    x.observe(outputEl, {childList: true});\n",
       "}}\n",
       "\n",
       "                        })                };                });            </script>        </div>"
      ]
     },
     "metadata": {},
     "output_type": "display_data"
    }
   ],
   "source": [
    "# providing a simple graph with output file\n",
    "performances = pd.read_csv(\"Performances %s .txt\" % ('_Step0'), sep=' ', header =0)\n",
    "BW = px.box(performances,y='SlaughterBW_kg', height = 500, range_y = [100, 150])\n",
    "BW.show()\n"
   ]
  },
  {
   "cell_type": "code",
   "execution_count": 198,
   "id": "b2c4fd80-3564-4168-b2e5-6215a48db0eb",
   "metadata": {
    "execution": {
     "iopub.execute_input": "2024-07-17T07:15:46.854992Z",
     "iopub.status.busy": "2024-07-17T07:15:46.854324Z",
     "iopub.status.idle": "2024-07-17T07:15:46.877203Z",
     "shell.execute_reply": "2024-07-17T07:15:46.876708Z",
     "shell.execute_reply.started": "2024-07-17T07:15:46.854941Z"
    }
   },
   "outputs": [
    {
     "data": {
      "text/html": [
       "<div>\n",
       "<style scoped>\n",
       "    .dataframe tbody tr th:only-of-type {\n",
       "        vertical-align: middle;\n",
       "    }\n",
       "\n",
       "    .dataframe tbody tr th {\n",
       "        vertical-align: top;\n",
       "    }\n",
       "\n",
       "    .dataframe thead th {\n",
       "        text-align: right;\n",
       "    }\n",
       "</style>\n",
       "<table border=\"1\" class=\"dataframe\">\n",
       "  <thead>\n",
       "    <tr style=\"text-align: right;\">\n",
       "      <th></th>\n",
       "      <th>Pig</th>\n",
       "      <th>delivery</th>\n",
       "      <th>AgeInit_d</th>\n",
       "      <th>SlaughterAge_d</th>\n",
       "      <th>BWInit_kg</th>\n",
       "      <th>SlaughterBW_kg</th>\n",
       "      <th>ADG_kg_d</th>\n",
       "    </tr>\n",
       "  </thead>\n",
       "  <tbody>\n",
       "    <tr>\n",
       "      <th>0</th>\n",
       "      <td>B0P100</td>\n",
       "      <td>slaughterhouse</td>\n",
       "      <td>71</td>\n",
       "      <td>164</td>\n",
       "      <td>28.634</td>\n",
       "      <td>124.889</td>\n",
       "      <td>1.035</td>\n",
       "    </tr>\n",
       "    <tr>\n",
       "      <th>1</th>\n",
       "      <td>B0P109</td>\n",
       "      <td>slaughterhouse</td>\n",
       "      <td>67</td>\n",
       "      <td>160</td>\n",
       "      <td>29.124</td>\n",
       "      <td>129.353</td>\n",
       "      <td>1.078</td>\n",
       "    </tr>\n",
       "    <tr>\n",
       "      <th>2</th>\n",
       "      <td>B0P110</td>\n",
       "      <td>slaughterhouse</td>\n",
       "      <td>72</td>\n",
       "      <td>165</td>\n",
       "      <td>34.371</td>\n",
       "      <td>123.828</td>\n",
       "      <td>0.962</td>\n",
       "    </tr>\n",
       "    <tr>\n",
       "      <th>3</th>\n",
       "      <td>B0P112</td>\n",
       "      <td>slaughterhouse</td>\n",
       "      <td>71</td>\n",
       "      <td>164</td>\n",
       "      <td>35.759</td>\n",
       "      <td>124.904</td>\n",
       "      <td>0.959</td>\n",
       "    </tr>\n",
       "    <tr>\n",
       "      <th>4</th>\n",
       "      <td>B0P115</td>\n",
       "      <td>slaughterhouse</td>\n",
       "      <td>69</td>\n",
       "      <td>162</td>\n",
       "      <td>32.446</td>\n",
       "      <td>133.252</td>\n",
       "      <td>1.084</td>\n",
       "    </tr>\n",
       "    <tr>\n",
       "      <th>...</th>\n",
       "      <td>...</td>\n",
       "      <td>...</td>\n",
       "      <td>...</td>\n",
       "      <td>...</td>\n",
       "      <td>...</td>\n",
       "      <td>...</td>\n",
       "      <td>...</td>\n",
       "    </tr>\n",
       "    <tr>\n",
       "      <th>344</th>\n",
       "      <td>B0P78</td>\n",
       "      <td>Room_emptying</td>\n",
       "      <td>73</td>\n",
       "      <td>194</td>\n",
       "      <td>29.842</td>\n",
       "      <td>112.158</td>\n",
       "      <td>0.680</td>\n",
       "    </tr>\n",
       "    <tr>\n",
       "      <th>345</th>\n",
       "      <td>B0P82</td>\n",
       "      <td>Room_emptying</td>\n",
       "      <td>69</td>\n",
       "      <td>190</td>\n",
       "      <td>25.380</td>\n",
       "      <td>116.066</td>\n",
       "      <td>0.749</td>\n",
       "    </tr>\n",
       "    <tr>\n",
       "      <th>346</th>\n",
       "      <td>B0P88</td>\n",
       "      <td>slaughterhouse</td>\n",
       "      <td>73</td>\n",
       "      <td>194</td>\n",
       "      <td>30.693</td>\n",
       "      <td>123.101</td>\n",
       "      <td>0.764</td>\n",
       "    </tr>\n",
       "    <tr>\n",
       "      <th>347</th>\n",
       "      <td>B0P94</td>\n",
       "      <td>Room_emptying</td>\n",
       "      <td>74</td>\n",
       "      <td>195</td>\n",
       "      <td>27.602</td>\n",
       "      <td>112.787</td>\n",
       "      <td>0.704</td>\n",
       "    </tr>\n",
       "    <tr>\n",
       "      <th>348</th>\n",
       "      <td>B0P98</td>\n",
       "      <td>Room_emptying</td>\n",
       "      <td>72</td>\n",
       "      <td>193</td>\n",
       "      <td>29.434</td>\n",
       "      <td>117.267</td>\n",
       "      <td>0.726</td>\n",
       "    </tr>\n",
       "  </tbody>\n",
       "</table>\n",
       "<p>349 rows × 7 columns</p>\n",
       "</div>"
      ],
      "text/plain": [
       "        Pig        delivery  AgeInit_d  SlaughterAge_d  BWInit_kg  \\\n",
       "0    B0P100  slaughterhouse         71             164     28.634   \n",
       "1    B0P109  slaughterhouse         67             160     29.124   \n",
       "2    B0P110  slaughterhouse         72             165     34.371   \n",
       "3    B0P112  slaughterhouse         71             164     35.759   \n",
       "4    B0P115  slaughterhouse         69             162     32.446   \n",
       "..      ...             ...        ...             ...        ...   \n",
       "344   B0P78   Room_emptying         73             194     29.842   \n",
       "345   B0P82   Room_emptying         69             190     25.380   \n",
       "346   B0P88  slaughterhouse         73             194     30.693   \n",
       "347   B0P94   Room_emptying         74             195     27.602   \n",
       "348   B0P98   Room_emptying         72             193     29.434   \n",
       "\n",
       "     SlaughterBW_kg  ADG_kg_d  \n",
       "0           124.889     1.035  \n",
       "1           129.353     1.078  \n",
       "2           123.828     0.962  \n",
       "3           124.904     0.959  \n",
       "4           133.252     1.084  \n",
       "..              ...       ...  \n",
       "344         112.158     0.680  \n",
       "345         116.066     0.749  \n",
       "346         123.101     0.764  \n",
       "347         112.787     0.704  \n",
       "348         117.267     0.726  \n",
       "\n",
       "[349 rows x 7 columns]"
      ]
     },
     "execution_count": 198,
     "metadata": {},
     "output_type": "execute_result"
    }
   ],
   "source": [
    "performances"
   ]
  },
  {
   "cell_type": "code",
   "execution_count": null,
   "id": "3576b641-e789-4179-b5f3-fc4d9f8d01ed",
   "metadata": {},
   "outputs": [],
   "source": []
  }
 ],
 "metadata": {
  "kernelspec": {
   "display_name": "Python 3 (ipykernel)",
   "language": "python",
   "name": "python3"
  },
  "language_info": {
   "codemirror_mode": {
    "name": "ipython",
    "version": 3
   },
   "file_extension": ".py",
   "mimetype": "text/x-python",
   "name": "python",
   "nbconvert_exporter": "python",
   "pygments_lexer": "ipython3",
   "version": "3.11.6"
  }
 },
 "nbformat": 4,
 "nbformat_minor": 5
}
