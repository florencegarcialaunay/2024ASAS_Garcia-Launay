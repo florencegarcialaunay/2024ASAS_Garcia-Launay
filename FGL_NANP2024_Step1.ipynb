{
 "cells": [
  {
   "cell_type": "code",
   "execution_count": 1,
   "id": "273010f4-2b8f-4092-92e8-4e32f5ee8afb",
   "metadata": {
    "execution": {
     "iopub.execute_input": "2024-07-01T15:10:41.481707Z",
     "iopub.status.busy": "2024-07-01T15:10:41.481040Z",
     "iopub.status.idle": "2024-07-01T15:10:41.490494Z",
     "shell.execute_reply": "2024-07-01T15:10:41.488876Z",
     "shell.execute_reply.started": "2024-07-01T15:10:41.481614Z"
    }
   },
   "outputs": [],
   "source": [
    "################################################################################################\n",
    "# OBJECTIVE:  #\n",
    "# AUTHOR: Florence Garcia-Launay (florence.garcia-launay@inrae.fr) #\n",
    "# LICENCE: CC0 1.0 Universal (CC0 1.0), Public Domain Dedication #\n",
    "# LAST UPDATE: 2024-07-01 #\n",
    "# VERSIONS : Python 3.11\n",
    "################################################################################################\n"
   ]
  },
  {
   "cell_type": "code",
   "execution_count": 192,
   "id": "9e3cb3db-17c4-4dad-807f-bfca9ca326be",
   "metadata": {
    "execution": {
     "iopub.execute_input": "2024-07-09T15:06:28.584168Z",
     "iopub.status.busy": "2024-07-09T15:06:28.583349Z",
     "iopub.status.idle": "2024-07-09T15:06:28.594199Z",
     "shell.execute_reply": "2024-07-09T15:06:28.592291Z",
     "shell.execute_reply.started": "2024-07-09T15:06:28.584078Z"
    }
   },
   "outputs": [],
   "source": [
    "#A excécuter si Classes.py est modifié\n",
    "import sys\n",
    "del sys.modules['Classes_Step1']\n",
    "del sys.modules['Functions_Step1']"
   ]
  },
  {
   "cell_type": "code",
   "execution_count": 193,
   "id": "5442ec6a-9aff-41db-a294-fc0baab9b49b",
   "metadata": {
    "execution": {
     "iopub.execute_input": "2024-07-09T15:06:29.307241Z",
     "iopub.status.busy": "2024-07-09T15:06:29.306648Z",
     "iopub.status.idle": "2024-07-09T15:06:29.318020Z",
     "shell.execute_reply": "2024-07-09T15:06:29.316534Z",
     "shell.execute_reply.started": "2024-07-09T15:06:29.307194Z"
    }
   },
   "outputs": [],
   "source": [
    "from Classes_Step1 import *\n",
    "from Functions_Step1 import *\n",
    "from csv import *\n",
    "import plotly.express as px"
   ]
  },
  {
   "cell_type": "code",
   "execution_count": 194,
   "id": "b83587b9-f820-4e91-a83a-15871cc90fcf",
   "metadata": {
    "execution": {
     "iopub.execute_input": "2024-07-09T15:06:29.835714Z",
     "iopub.status.busy": "2024-07-09T15:06:29.835138Z",
     "iopub.status.idle": "2024-07-09T15:06:29.852202Z",
     "shell.execute_reply": "2024-07-09T15:06:29.851061Z",
     "shell.execute_reply.started": "2024-07-09T15:06:29.835666Z"
    }
   },
   "outputs": [],
   "source": [
    "# INRAPorc parameters\n",
    "dict_INRAPorc = {} # dictionnary of INRAPorc parameters\n",
    "dict_INRAPorc['AAm75'] = [0.3611 + 0.1044, 0.0239 + 0.0045] # mg/kgBW0.75/d - coeff. basal turnover and integument loss in SID prot SID Lys () - van Milgen et al. 2008\n",
    "dict_INRAPorc['AAendo'] = [8.5167, 0.3133] # g/kg DMI - coeff. basal endogenous losses for SID prot SID Lys - van Milgen et al. 2008\n",
    "dict_INRAPorc['kAA'] = [0.85, 0.72] # maximum efficiency for SID prot and SID Lys - van Milgen et al. 2008\n",
    "dict_INRAPorc['AAbody'] = [1, 0.0696] # g/g - Composition of body protein in prot and Lys\n",
    "dict_INRAPorc['VarUrinELoss'] = 31.1\n",
    "dict_INRAPorc['kProtJaap'] = 0.52\n",
    "dict_INRAPorc['NEPD'] = 0.484 # kJ NE / kJ prot deposited - cost depositing 1 kJ prot\n",
    "dict_INRAPorc['Pallom'] = 8.7845\n",
    "dict_INRAPorc['Ballom'] = 0.94406\n",
    "dict_INRAPorc['Lallom'] = 1.2566\n",
    "dict_INRAPorc['FHPint'] = 436.47\n",
    "dict_INRAPorc['FHPpente'] = 0.1298 / 0.74\n",
    "dict_INRAPorc['Standing'] = 4\n",
    "dict_INRAPorc['NEact60h'] = 150 / 2.9\n",
    "dict_INRAPorc['kBR'] = 0.616 * 1.15\n",
    "dict_INRAPorc['GEProtJaap'] = 23.8\n",
    "dict_INRAPorc['PVmr1'] = 19.999\n",
    "dict_INRAPorc['mrPV1'] = 8.4 * dict_INRAPorc['GEProtJaap']\n",
    "dict_INRAPorc['mrPV2'] = 0\n",
    "dict_INRAPorc['ValEnergy'] = [[22.64, 23.31, 20.34, 0, 0, 12.08], \n",
    "                             [38.76, 39.00, 39.00, 1, 35.01 / 39.00, 35.01],\n",
    "                             [17.54, 17.45, 17.45, 1, 14.32 / 17.45, 14.32],\n",
    "                             [16.71, 16.62, 16.62, 1, 11.94 / 16.62, 11.94],\n",
    "                             [18.58, 16.61, 15.51, 15.51 / 16.61, 8.64 / 15.51, 8.64],\n",
    "                             [18.58, 16.61, 15.51, 15.51 / 16.61, 8.64 / 15.51, 8.64]]"
   ]
  },
  {
   "cell_type": "code",
   "execution_count": 195,
   "id": "c82e1d18-303f-4f43-bff4-8785114799bd",
   "metadata": {
    "execution": {
     "iopub.execute_input": "2024-07-09T15:06:31.341109Z",
     "iopub.status.busy": "2024-07-09T15:06:31.340488Z",
     "iopub.status.idle": "2024-07-09T15:06:31.373562Z",
     "shell.execute_reply": "2024-07-09T15:06:31.371765Z",
     "shell.execute_reply.started": "2024-07-09T15:06:31.341059Z"
    }
   },
   "outputs": [],
   "source": [
    "# General inputs\n",
    "param = read_param('General_input_file_Step1_multiphase.csv')\n",
    "n = param['Number_Phase']\n",
    "seq_reul = []\n",
    "if n > 1:\n",
    "    for i in range(n - 1):\n",
    "        seq_reulphase = [param['Mode'][i], param['Point_diet_change'][i + 1], param['Feed1'][i], param['Feed2'][i], param['Percentage_feed1'][i]]\n",
    "        seq_reul += [seq_reulphase]\n",
    "\n",
    "    seq_reulfin = [-1, 0.0, param['Feed1'][n - 1], param['Feed2'][n - 1], param['Percentage_feed1'][n-1]]\n",
    "    seq_reul += [seq_reulfin]\n",
    "# one phase\n",
    "else:\n",
    "    seq_reul = [[-1, 0.0, param['Feed1'], param['Feed2'], param['Percentage_feed1']]]\n",
    "\n",
    "if param['Variability'] == 1: \n",
    "    dict_all_profiles = {}\n",
    "    dict_profiles_females = lect_profile(param['file_profile_females']) # We read a file containing female profiles\n",
    "    dict_profiles_males = lect_profile(param['file_profile_males'])  # We read a file containing male profiles\n",
    "    list_profiles_males = list(dict_profiles_males.keys())\n",
    "    half = round(param['nb_pigs']/2)\n",
    "    for key in list_profiles_males[0:half]:\n",
    "        dict_all_profiles[key] = dict_profiles_males[key]\n",
    "    list_profiles_females = list(dict_profiles_females.keys())\n",
    "    for key in list_profiles_females[0:(param['nb_pigs']-half)]:\n",
    "        dict_all_profiles[key] = dict_profiles_females[key]\n",
    "elif param['Variability'] == 0:\n",
    "    dict_all_profiles = lect_profile(param['file_profile'])\n",
    "\n",
    "dict_aliments = lect_feed(param['file_feeds'])\n"
   ]
  },
  {
   "cell_type": "code",
   "execution_count": 196,
   "id": "6fbe1570-e5c7-4869-951e-81ec5369879f",
   "metadata": {
    "execution": {
     "iopub.execute_input": "2024-07-09T15:06:32.042391Z",
     "iopub.status.busy": "2024-07-09T15:06:32.041790Z",
     "iopub.status.idle": "2024-07-09T15:06:32.054205Z",
     "shell.execute_reply": "2024-07-09T15:06:32.052614Z",
     "shell.execute_reply.started": "2024-07-09T15:06:32.042343Z"
    }
   },
   "outputs": [],
   "source": [
    "# initializing the objects\n",
    "\n",
    "My_Batch = Batch(profile = dict_all_profiles, Variability = param['Variability'],\n",
    "                 nb_pigs = param['nb_pigs'],\n",
    "                 ruleseq = seq_reul, \n",
    "                 Ageimoy = param['Ageimoy'],\n",
    "                 BWimoy = param['BWimoy'],\n",
    "                 dict_INRAPorc = dict_INRAPorc,\n",
    "                 ID='B0')\n",
    "\n",
    "My_Feed_Storage = Feed_storage(dict_aliments)\n"
   ]
  },
  {
   "cell_type": "code",
   "execution_count": 197,
   "id": "7b511a20-96d1-4ced-8f24-b3e8c2a9f291",
   "metadata": {
    "execution": {
     "iopub.execute_input": "2024-07-09T15:06:32.659388Z",
     "iopub.status.busy": "2024-07-09T15:06:32.658738Z",
     "iopub.status.idle": "2024-07-09T15:06:32.672205Z",
     "shell.execute_reply": "2024-07-09T15:06:32.671132Z",
     "shell.execute_reply.started": "2024-07-09T15:06:32.659337Z"
    }
   },
   "outputs": [],
   "source": [
    "# Preparing output files\n",
    "\n",
    "f_perf = open(\"Performances %s .txt\" % (param['scenario']), \"w\")\n",
    "print(\n",
    "    \"Scenario\" + ' ' + \"Pig\" + ' ' + \"Profile\" + ' ' + \"delivery\" + ' ' + \"AgeInit_d\" + ' ' + \"SlaughterAge_d\" + ' ' + \"BWInit_kg\" + ' ' + \"SlaughterBW_kg\" + ' ' + \"ProtInit_kg\" + ' ' + \"FinalProt_kg\" + ' ' +\n",
    "    \"LipInit_kg\" + ' ' + \"FinalLip_kg\" + ' ' + \"CumulFeedIntake_kg\" + ' ' + \"N_intake_kg\" + ' ' + \"excreted_N_kg\" + ' ' + \"excreted_TAN_kg\" + ' ' + \"ADG_kg_d\" + ' ' + \"FCR_kg_kg\"\n",
    "    + ' ' + \"Feed1\" + ' ' + \"IntakeFeed1_kg\" + ' ' + \"Feed2\" + ' ' + \"IntakeFeed2_kg\" \n",
    "    , file=f_perf)\n",
    "f_perf.flush()\n",
    "\n",
    "f_daily = open(\"Daily_output %s.txt\" % (param['scenario']), \"w\")\n",
    "print(\n",
    "    \"Scenario\" + ' ' + \"Pig\" + ' ' + \"Profile\" + ' ' + \"Day\" + ' ' + \"Age_d\" + ' ' + \"BW_kg\" + ' ' + \"\" + ' ' + \"Daily_Gain_kg\" + ' ' + \"BodyProt_kg\" + ' ' + \"BodyLip_kg\" + ' ' + \n",
    "     \"Feed_intake_kg_d\" + ' ' + \"FecalN_kg_d\" + ' ' + \"UrinN_kg_d\" + ' ' + \"RetainedN_kg_d\", file=f_daily)\n",
    "f_daily.flush()\n",
    "\n"
   ]
  },
  {
   "cell_type": "code",
   "execution_count": 198,
   "id": "4b69ea59-7555-4f9b-b490-030177ccb480",
   "metadata": {
    "execution": {
     "iopub.execute_input": "2024-07-09T15:06:33.284650Z",
     "iopub.status.busy": "2024-07-09T15:06:33.284069Z",
     "iopub.status.idle": "2024-07-09T15:06:33.743743Z",
     "shell.execute_reply": "2024-07-09T15:06:33.742264Z",
     "shell.execute_reply.started": "2024-07-09T15:06:33.284602Z"
    }
   },
   "outputs": [],
   "source": [
    "# Simulation\n",
    "AGENDA = {(param['duration']): ['My_Batch.delivery(My_Feed_Storage, param, f_perf, i)'], \n",
    "          (param['duration']-7): ['My_Batch.delivery(My_Feed_Storage, param, f_perf, i)'],\n",
    "          (param['duration']-14): ['My_Batch.delivery(My_Feed_Storage, param, f_perf, i)'], \n",
    "          (param['duration']-21): ['My_Batch.delivery(My_Feed_Storage, param, f_perf, i)'],\n",
    "          (param['duration']-28): ['My_Batch.delivery(My_Feed_Storage, param, f_perf, i)']}\n",
    "\n",
    "for i in range(param['duration']+1):\n",
    "    if len(My_Batch.IDpigs) > 0 :\n",
    "        My_Batch.batch_growth(My_Feed_Storage, dict_INRAPorc, param, function_INRAPorc, f_daily, i)\n",
    "        if i in AGENDA.keys():\n",
    "            for evs in AGENDA[i]:\n",
    "                exec(evs)\n",
    "\n",
    "f_perf.close()\n",
    "f_daily.close()\n",
    "    "
   ]
  },
  {
   "cell_type": "code",
   "execution_count": 201,
   "id": "0c5a3698-90e5-498e-a7c9-189263c2f806",
   "metadata": {
    "execution": {
     "iopub.execute_input": "2024-07-09T15:20:05.329269Z",
     "iopub.status.busy": "2024-07-09T15:20:05.327606Z",
     "iopub.status.idle": "2024-07-09T15:20:05.514335Z",
     "shell.execute_reply": "2024-07-09T15:20:05.513473Z",
     "shell.execute_reply.started": "2024-07-09T15:20:05.329211Z"
    }
   },
   "outputs": [
    {
     "data": {
      "application/vnd.plotly.v1+json": {
       "config": {
        "plotlyServerURL": "https://plot.ly"
       },
       "data": [
        {
         "alignmentgroup": "True",
         "hovertemplate": "FCR_kg_kg=%{y}<extra></extra>",
         "legendgroup": "",
         "marker": {
          "color": "#636efa"
         },
         "name": "",
         "notched": false,
         "offsetgroup": "",
         "orientation": "v",
         "showlegend": false,
         "type": "box",
         "x0": " ",
         "xaxis": "x",
         "y": [
          134.484,
          134.484,
          134.484,
          134.484,
          134.484,
          134.484,
          134.484,
          134.484,
          134.484,
          134.484,
          134.484,
          134.484,
          134.484,
          134.484,
          134.484,
          134.484,
          134.484,
          134.484,
          134.484,
          134.484,
          134.484,
          134.484,
          134.484,
          134.484,
          134.484,
          134.484,
          134.484,
          134.484,
          134.484,
          134.484,
          134.484,
          134.484,
          134.484,
          134.484,
          134.484,
          134.484,
          134.484,
          134.484,
          134.484,
          134.484,
          134.484,
          134.484,
          134.484,
          134.484,
          134.484,
          134.484,
          134.484,
          134.484,
          134.484,
          134.484,
          133.528,
          133.528,
          133.528,
          133.528,
          133.528,
          133.528,
          133.528,
          133.528,
          133.528,
          133.528,
          133.528,
          133.528,
          133.528,
          133.528,
          133.528,
          133.528,
          133.528,
          133.528,
          133.528,
          133.528,
          133.528,
          133.528,
          133.528,
          133.528,
          133.528,
          133.528,
          133.528,
          133.528,
          133.528,
          133.528,
          133.528,
          133.528,
          133.528,
          133.528,
          133.528,
          133.528,
          133.528,
          133.528,
          133.528,
          133.528,
          133.528,
          133.528,
          133.528,
          133.528,
          133.528,
          133.528,
          133.528,
          133.528,
          133.528,
          133.528
         ],
         "y0": " ",
         "yaxis": "y"
        }
       ],
       "layout": {
        "autosize": true,
        "boxmode": "group",
        "legend": {
         "tracegroupgap": 0
        },
        "margin": {
         "t": 60
        },
        "template": {
         "data": {
          "bar": [
           {
            "error_x": {
             "color": "#2a3f5f"
            },
            "error_y": {
             "color": "#2a3f5f"
            },
            "marker": {
             "line": {
              "color": "#E5ECF6",
              "width": 0.5
             },
             "pattern": {
              "fillmode": "overlay",
              "size": 10,
              "solidity": 0.2
             }
            },
            "type": "bar"
           }
          ],
          "barpolar": [
           {
            "marker": {
             "line": {
              "color": "#E5ECF6",
              "width": 0.5
             },
             "pattern": {
              "fillmode": "overlay",
              "size": 10,
              "solidity": 0.2
             }
            },
            "type": "barpolar"
           }
          ],
          "carpet": [
           {
            "aaxis": {
             "endlinecolor": "#2a3f5f",
             "gridcolor": "white",
             "linecolor": "white",
             "minorgridcolor": "white",
             "startlinecolor": "#2a3f5f"
            },
            "baxis": {
             "endlinecolor": "#2a3f5f",
             "gridcolor": "white",
             "linecolor": "white",
             "minorgridcolor": "white",
             "startlinecolor": "#2a3f5f"
            },
            "type": "carpet"
           }
          ],
          "choropleth": [
           {
            "colorbar": {
             "outlinewidth": 0,
             "ticks": ""
            },
            "type": "choropleth"
           }
          ],
          "contour": [
           {
            "colorbar": {
             "outlinewidth": 0,
             "ticks": ""
            },
            "colorscale": [
             [
              0,
              "#0d0887"
             ],
             [
              0.1111111111111111,
              "#46039f"
             ],
             [
              0.2222222222222222,
              "#7201a8"
             ],
             [
              0.3333333333333333,
              "#9c179e"
             ],
             [
              0.4444444444444444,
              "#bd3786"
             ],
             [
              0.5555555555555556,
              "#d8576b"
             ],
             [
              0.6666666666666666,
              "#ed7953"
             ],
             [
              0.7777777777777778,
              "#fb9f3a"
             ],
             [
              0.8888888888888888,
              "#fdca26"
             ],
             [
              1,
              "#f0f921"
             ]
            ],
            "type": "contour"
           }
          ],
          "contourcarpet": [
           {
            "colorbar": {
             "outlinewidth": 0,
             "ticks": ""
            },
            "type": "contourcarpet"
           }
          ],
          "heatmap": [
           {
            "colorbar": {
             "outlinewidth": 0,
             "ticks": ""
            },
            "colorscale": [
             [
              0,
              "#0d0887"
             ],
             [
              0.1111111111111111,
              "#46039f"
             ],
             [
              0.2222222222222222,
              "#7201a8"
             ],
             [
              0.3333333333333333,
              "#9c179e"
             ],
             [
              0.4444444444444444,
              "#bd3786"
             ],
             [
              0.5555555555555556,
              "#d8576b"
             ],
             [
              0.6666666666666666,
              "#ed7953"
             ],
             [
              0.7777777777777778,
              "#fb9f3a"
             ],
             [
              0.8888888888888888,
              "#fdca26"
             ],
             [
              1,
              "#f0f921"
             ]
            ],
            "type": "heatmap"
           }
          ],
          "heatmapgl": [
           {
            "colorbar": {
             "outlinewidth": 0,
             "ticks": ""
            },
            "colorscale": [
             [
              0,
              "#0d0887"
             ],
             [
              0.1111111111111111,
              "#46039f"
             ],
             [
              0.2222222222222222,
              "#7201a8"
             ],
             [
              0.3333333333333333,
              "#9c179e"
             ],
             [
              0.4444444444444444,
              "#bd3786"
             ],
             [
              0.5555555555555556,
              "#d8576b"
             ],
             [
              0.6666666666666666,
              "#ed7953"
             ],
             [
              0.7777777777777778,
              "#fb9f3a"
             ],
             [
              0.8888888888888888,
              "#fdca26"
             ],
             [
              1,
              "#f0f921"
             ]
            ],
            "type": "heatmapgl"
           }
          ],
          "histogram": [
           {
            "marker": {
             "pattern": {
              "fillmode": "overlay",
              "size": 10,
              "solidity": 0.2
             }
            },
            "type": "histogram"
           }
          ],
          "histogram2d": [
           {
            "colorbar": {
             "outlinewidth": 0,
             "ticks": ""
            },
            "colorscale": [
             [
              0,
              "#0d0887"
             ],
             [
              0.1111111111111111,
              "#46039f"
             ],
             [
              0.2222222222222222,
              "#7201a8"
             ],
             [
              0.3333333333333333,
              "#9c179e"
             ],
             [
              0.4444444444444444,
              "#bd3786"
             ],
             [
              0.5555555555555556,
              "#d8576b"
             ],
             [
              0.6666666666666666,
              "#ed7953"
             ],
             [
              0.7777777777777778,
              "#fb9f3a"
             ],
             [
              0.8888888888888888,
              "#fdca26"
             ],
             [
              1,
              "#f0f921"
             ]
            ],
            "type": "histogram2d"
           }
          ],
          "histogram2dcontour": [
           {
            "colorbar": {
             "outlinewidth": 0,
             "ticks": ""
            },
            "colorscale": [
             [
              0,
              "#0d0887"
             ],
             [
              0.1111111111111111,
              "#46039f"
             ],
             [
              0.2222222222222222,
              "#7201a8"
             ],
             [
              0.3333333333333333,
              "#9c179e"
             ],
             [
              0.4444444444444444,
              "#bd3786"
             ],
             [
              0.5555555555555556,
              "#d8576b"
             ],
             [
              0.6666666666666666,
              "#ed7953"
             ],
             [
              0.7777777777777778,
              "#fb9f3a"
             ],
             [
              0.8888888888888888,
              "#fdca26"
             ],
             [
              1,
              "#f0f921"
             ]
            ],
            "type": "histogram2dcontour"
           }
          ],
          "mesh3d": [
           {
            "colorbar": {
             "outlinewidth": 0,
             "ticks": ""
            },
            "type": "mesh3d"
           }
          ],
          "parcoords": [
           {
            "line": {
             "colorbar": {
              "outlinewidth": 0,
              "ticks": ""
             }
            },
            "type": "parcoords"
           }
          ],
          "pie": [
           {
            "automargin": true,
            "type": "pie"
           }
          ],
          "scatter": [
           {
            "fillpattern": {
             "fillmode": "overlay",
             "size": 10,
             "solidity": 0.2
            },
            "type": "scatter"
           }
          ],
          "scatter3d": [
           {
            "line": {
             "colorbar": {
              "outlinewidth": 0,
              "ticks": ""
             }
            },
            "marker": {
             "colorbar": {
              "outlinewidth": 0,
              "ticks": ""
             }
            },
            "type": "scatter3d"
           }
          ],
          "scattercarpet": [
           {
            "marker": {
             "colorbar": {
              "outlinewidth": 0,
              "ticks": ""
             }
            },
            "type": "scattercarpet"
           }
          ],
          "scattergeo": [
           {
            "marker": {
             "colorbar": {
              "outlinewidth": 0,
              "ticks": ""
             }
            },
            "type": "scattergeo"
           }
          ],
          "scattergl": [
           {
            "marker": {
             "colorbar": {
              "outlinewidth": 0,
              "ticks": ""
             }
            },
            "type": "scattergl"
           }
          ],
          "scattermapbox": [
           {
            "marker": {
             "colorbar": {
              "outlinewidth": 0,
              "ticks": ""
             }
            },
            "type": "scattermapbox"
           }
          ],
          "scatterpolar": [
           {
            "marker": {
             "colorbar": {
              "outlinewidth": 0,
              "ticks": ""
             }
            },
            "type": "scatterpolar"
           }
          ],
          "scatterpolargl": [
           {
            "marker": {
             "colorbar": {
              "outlinewidth": 0,
              "ticks": ""
             }
            },
            "type": "scatterpolargl"
           }
          ],
          "scatterternary": [
           {
            "marker": {
             "colorbar": {
              "outlinewidth": 0,
              "ticks": ""
             }
            },
            "type": "scatterternary"
           }
          ],
          "surface": [
           {
            "colorbar": {
             "outlinewidth": 0,
             "ticks": ""
            },
            "colorscale": [
             [
              0,
              "#0d0887"
             ],
             [
              0.1111111111111111,
              "#46039f"
             ],
             [
              0.2222222222222222,
              "#7201a8"
             ],
             [
              0.3333333333333333,
              "#9c179e"
             ],
             [
              0.4444444444444444,
              "#bd3786"
             ],
             [
              0.5555555555555556,
              "#d8576b"
             ],
             [
              0.6666666666666666,
              "#ed7953"
             ],
             [
              0.7777777777777778,
              "#fb9f3a"
             ],
             [
              0.8888888888888888,
              "#fdca26"
             ],
             [
              1,
              "#f0f921"
             ]
            ],
            "type": "surface"
           }
          ],
          "table": [
           {
            "cells": {
             "fill": {
              "color": "#EBF0F8"
             },
             "line": {
              "color": "white"
             }
            },
            "header": {
             "fill": {
              "color": "#C8D4E3"
             },
             "line": {
              "color": "white"
             }
            },
            "type": "table"
           }
          ]
         },
         "layout": {
          "annotationdefaults": {
           "arrowcolor": "#2a3f5f",
           "arrowhead": 0,
           "arrowwidth": 1
          },
          "autotypenumbers": "strict",
          "coloraxis": {
           "colorbar": {
            "outlinewidth": 0,
            "ticks": ""
           }
          },
          "colorscale": {
           "diverging": [
            [
             0,
             "#8e0152"
            ],
            [
             0.1,
             "#c51b7d"
            ],
            [
             0.2,
             "#de77ae"
            ],
            [
             0.3,
             "#f1b6da"
            ],
            [
             0.4,
             "#fde0ef"
            ],
            [
             0.5,
             "#f7f7f7"
            ],
            [
             0.6,
             "#e6f5d0"
            ],
            [
             0.7,
             "#b8e186"
            ],
            [
             0.8,
             "#7fbc41"
            ],
            [
             0.9,
             "#4d9221"
            ],
            [
             1,
             "#276419"
            ]
           ],
           "sequential": [
            [
             0,
             "#0d0887"
            ],
            [
             0.1111111111111111,
             "#46039f"
            ],
            [
             0.2222222222222222,
             "#7201a8"
            ],
            [
             0.3333333333333333,
             "#9c179e"
            ],
            [
             0.4444444444444444,
             "#bd3786"
            ],
            [
             0.5555555555555556,
             "#d8576b"
            ],
            [
             0.6666666666666666,
             "#ed7953"
            ],
            [
             0.7777777777777778,
             "#fb9f3a"
            ],
            [
             0.8888888888888888,
             "#fdca26"
            ],
            [
             1,
             "#f0f921"
            ]
           ],
           "sequentialminus": [
            [
             0,
             "#0d0887"
            ],
            [
             0.1111111111111111,
             "#46039f"
            ],
            [
             0.2222222222222222,
             "#7201a8"
            ],
            [
             0.3333333333333333,
             "#9c179e"
            ],
            [
             0.4444444444444444,
             "#bd3786"
            ],
            [
             0.5555555555555556,
             "#d8576b"
            ],
            [
             0.6666666666666666,
             "#ed7953"
            ],
            [
             0.7777777777777778,
             "#fb9f3a"
            ],
            [
             0.8888888888888888,
             "#fdca26"
            ],
            [
             1,
             "#f0f921"
            ]
           ]
          },
          "colorway": [
           "#636efa",
           "#EF553B",
           "#00cc96",
           "#ab63fa",
           "#FFA15A",
           "#19d3f3",
           "#FF6692",
           "#B6E880",
           "#FF97FF",
           "#FECB52"
          ],
          "font": {
           "color": "#2a3f5f"
          },
          "geo": {
           "bgcolor": "white",
           "lakecolor": "white",
           "landcolor": "#E5ECF6",
           "showlakes": true,
           "showland": true,
           "subunitcolor": "white"
          },
          "hoverlabel": {
           "align": "left"
          },
          "hovermode": "closest",
          "mapbox": {
           "style": "light"
          },
          "paper_bgcolor": "white",
          "plot_bgcolor": "#E5ECF6",
          "polar": {
           "angularaxis": {
            "gridcolor": "white",
            "linecolor": "white",
            "ticks": ""
           },
           "bgcolor": "#E5ECF6",
           "radialaxis": {
            "gridcolor": "white",
            "linecolor": "white",
            "ticks": ""
           }
          },
          "scene": {
           "xaxis": {
            "backgroundcolor": "#E5ECF6",
            "gridcolor": "white",
            "gridwidth": 2,
            "linecolor": "white",
            "showbackground": true,
            "ticks": "",
            "zerolinecolor": "white"
           },
           "yaxis": {
            "backgroundcolor": "#E5ECF6",
            "gridcolor": "white",
            "gridwidth": 2,
            "linecolor": "white",
            "showbackground": true,
            "ticks": "",
            "zerolinecolor": "white"
           },
           "zaxis": {
            "backgroundcolor": "#E5ECF6",
            "gridcolor": "white",
            "gridwidth": 2,
            "linecolor": "white",
            "showbackground": true,
            "ticks": "",
            "zerolinecolor": "white"
           }
          },
          "shapedefaults": {
           "line": {
            "color": "#2a3f5f"
           }
          },
          "ternary": {
           "aaxis": {
            "gridcolor": "white",
            "linecolor": "white",
            "ticks": ""
           },
           "baxis": {
            "gridcolor": "white",
            "linecolor": "white",
            "ticks": ""
           },
           "bgcolor": "#E5ECF6",
           "caxis": {
            "gridcolor": "white",
            "linecolor": "white",
            "ticks": ""
           }
          },
          "title": {
           "x": 0.05
          },
          "xaxis": {
           "automargin": true,
           "gridcolor": "white",
           "linecolor": "white",
           "ticks": "",
           "title": {
            "standoff": 15
           },
           "zerolinecolor": "white",
           "zerolinewidth": 2
          },
          "yaxis": {
           "automargin": true,
           "gridcolor": "white",
           "linecolor": "white",
           "ticks": "",
           "title": {
            "standoff": 15
           },
           "zerolinecolor": "white",
           "zerolinewidth": 2
          }
         }
        },
        "xaxis": {
         "anchor": "y",
         "autorange": true,
         "domain": [
          0,
          1
         ],
         "range": [
          -0.5,
          0.5
         ],
         "type": "category"
        },
        "yaxis": {
         "anchor": "x",
         "autorange": true,
         "domain": [
          0,
          1
         ],
         "range": [
          133.47488888888887,
          134.53711111111113
         ],
         "title": {
          "text": "FCR_kg_kg"
         },
         "type": "linear"
        }
       }
      },
      "image/png": "[encoded data removed]",
      "text/html": [
       "<div>                            <div id=\"4163d585-8667-4a47-ad10-ce0fdfb6dad6\" class=\"plotly-graph-div\" style=\"height:500px; width:100%;\"></div>            <script type=\"text/javascript\">                require([\"plotly\"], function(Plotly) {                    window.PLOTLYENV=window.PLOTLYENV || {};                                    if (document.getElementById(\"4163d585-8667-4a47-ad10-ce0fdfb6dad6\")) {                    Plotly.newPlot(                        \"4163d585-8667-4a47-ad10-ce0fdfb6dad6\",                        [{\"alignmentgroup\":\"True\",\"hovertemplate\":\"FCR_kg_kg=%{y}<extra></extra>\",\"legendgroup\":\"\",\"marker\":{\"color\":\"#636efa\"},\"name\":\"\",\"notched\":false,\"offsetgroup\":\"\",\"orientation\":\"v\",\"showlegend\":false,\"x0\":\" \",\"xaxis\":\"x\",\"y\":[134.484,134.484,134.484,134.484,134.484,134.484,134.484,134.484,134.484,134.484,134.484,134.484,134.484,134.484,134.484,134.484,134.484,134.484,134.484,134.484,134.484,134.484,134.484,134.484,134.484,134.484,134.484,134.484,134.484,134.484,134.484,134.484,134.484,134.484,134.484,134.484,134.484,134.484,134.484,134.484,134.484,134.484,134.484,134.484,134.484,134.484,134.484,134.484,134.484,134.484,133.528,133.528,133.528,133.528,133.528,133.528,133.528,133.528,133.528,133.528,133.528,133.528,133.528,133.528,133.528,133.528,133.528,133.528,133.528,133.528,133.528,133.528,133.528,133.528,133.528,133.528,133.528,133.528,133.528,133.528,133.528,133.528,133.528,133.528,133.528,133.528,133.528,133.528,133.528,133.528,133.528,133.528,133.528,133.528,133.528,133.528,133.528,133.528,133.528,133.528],\"y0\":\" \",\"yaxis\":\"y\",\"type\":\"box\"}],                        {\"template\":{\"data\":{\"histogram2dcontour\":[{\"type\":\"histogram2dcontour\",\"colorbar\":{\"outlinewidth\":0,\"ticks\":\"\"},\"colorscale\":[[0.0,\"#0d0887\"],[0.1111111111111111,\"#46039f\"],[0.2222222222222222,\"#7201a8\"],[0.3333333333333333,\"#9c179e\"],[0.4444444444444444,\"#bd3786\"],[0.5555555555555556,\"#d8576b\"],[0.6666666666666666,\"#ed7953\"],[0.7777777777777778,\"#fb9f3a\"],[0.8888888888888888,\"#fdca26\"],[1.0,\"#f0f921\"]]}],\"choropleth\":[{\"type\":\"choropleth\",\"colorbar\":{\"outlinewidth\":0,\"ticks\":\"\"}}],\"histogram2d\":[{\"type\":\"histogram2d\",\"colorbar\":{\"outlinewidth\":0,\"ticks\":\"\"},\"colorscale\":[[0.0,\"#0d0887\"],[0.1111111111111111,\"#46039f\"],[0.2222222222222222,\"#7201a8\"],[0.3333333333333333,\"#9c179e\"],[0.4444444444444444,\"#bd3786\"],[0.5555555555555556,\"#d8576b\"],[0.6666666666666666,\"#ed7953\"],[0.7777777777777778,\"#fb9f3a\"],[0.8888888888888888,\"#fdca26\"],[1.0,\"#f0f921\"]]}],\"heatmap\":[{\"type\":\"heatmap\",\"colorbar\":{\"outlinewidth\":0,\"ticks\":\"\"},\"colorscale\":[[0.0,\"#0d0887\"],[0.1111111111111111,\"#46039f\"],[0.2222222222222222,\"#7201a8\"],[0.3333333333333333,\"#9c179e\"],[0.4444444444444444,\"#bd3786\"],[0.5555555555555556,\"#d8576b\"],[0.6666666666666666,\"#ed7953\"],[0.7777777777777778,\"#fb9f3a\"],[0.8888888888888888,\"#fdca26\"],[1.0,\"#f0f921\"]]}],\"heatmapgl\":[{\"type\":\"heatmapgl\",\"colorbar\":{\"outlinewidth\":0,\"ticks\":\"\"},\"colorscale\":[[0.0,\"#0d0887\"],[0.1111111111111111,\"#46039f\"],[0.2222222222222222,\"#7201a8\"],[0.3333333333333333,\"#9c179e\"],[0.4444444444444444,\"#bd3786\"],[0.5555555555555556,\"#d8576b\"],[0.6666666666666666,\"#ed7953\"],[0.7777777777777778,\"#fb9f3a\"],[0.8888888888888888,\"#fdca26\"],[1.0,\"#f0f921\"]]}],\"contourcarpet\":[{\"type\":\"contourcarpet\",\"colorbar\":{\"outlinewidth\":0,\"ticks\":\"\"}}],\"contour\":[{\"type\":\"contour\",\"colorbar\":{\"outlinewidth\":0,\"ticks\":\"\"},\"colorscale\":[[0.0,\"#0d0887\"],[0.1111111111111111,\"#46039f\"],[0.2222222222222222,\"#7201a8\"],[0.3333333333333333,\"#9c179e\"],[0.4444444444444444,\"#bd3786\"],[0.5555555555555556,\"#d8576b\"],[0.6666666666666666,\"#ed7953\"],[0.7777777777777778,\"#fb9f3a\"],[0.8888888888888888,\"#fdca26\"],[1.0,\"#f0f921\"]]}],\"surface\":[{\"type\":\"surface\",\"colorbar\":{\"outlinewidth\":0,\"ticks\":\"\"},\"colorscale\":[[0.0,\"#0d0887\"],[0.1111111111111111,\"#46039f\"],[0.2222222222222222,\"#7201a8\"],[0.3333333333333333,\"#9c179e\"],[0.4444444444444444,\"#bd3786\"],[0.5555555555555556,\"#d8576b\"],[0.6666666666666666,\"#ed7953\"],[0.7777777777777778,\"#fb9f3a\"],[0.8888888888888888,\"#fdca26\"],[1.0,\"#f0f921\"]]}],\"mesh3d\":[{\"type\":\"mesh3d\",\"colorbar\":{\"outlinewidth\":0,\"ticks\":\"\"}}],\"scatter\":[{\"fillpattern\":{\"fillmode\":\"overlay\",\"size\":10,\"solidity\":0.2},\"type\":\"scatter\"}],\"parcoords\":[{\"type\":\"parcoords\",\"line\":{\"colorbar\":{\"outlinewidth\":0,\"ticks\":\"\"}}}],\"scatterpolargl\":[{\"type\":\"scatterpolargl\",\"marker\":{\"colorbar\":{\"outlinewidth\":0,\"ticks\":\"\"}}}],\"bar\":[{\"error_x\":{\"color\":\"#2a3f5f\"},\"error_y\":{\"color\":\"#2a3f5f\"},\"marker\":{\"line\":{\"color\":\"#E5ECF6\",\"width\":0.5},\"pattern\":{\"fillmode\":\"overlay\",\"size\":10,\"solidity\":0.2}},\"type\":\"bar\"}],\"scattergeo\":[{\"type\":\"scattergeo\",\"marker\":{\"colorbar\":{\"outlinewidth\":0,\"ticks\":\"\"}}}],\"scatterpolar\":[{\"type\":\"scatterpolar\",\"marker\":{\"colorbar\":{\"outlinewidth\":0,\"ticks\":\"\"}}}],\"histogram\":[{\"marker\":{\"pattern\":{\"fillmode\":\"overlay\",\"size\":10,\"solidity\":0.2}},\"type\":\"histogram\"}],\"scattergl\":[{\"type\":\"scattergl\",\"marker\":{\"colorbar\":{\"outlinewidth\":0,\"ticks\":\"\"}}}],\"scatter3d\":[{\"type\":\"scatter3d\",\"line\":{\"colorbar\":{\"outlinewidth\":0,\"ticks\":\"\"}},\"marker\":{\"colorbar\":{\"outlinewidth\":0,\"ticks\":\"\"}}}],\"scattermapbox\":[{\"type\":\"scattermapbox\",\"marker\":{\"colorbar\":{\"outlinewidth\":0,\"ticks\":\"\"}}}],\"scatterternary\":[{\"type\":\"scatterternary\",\"marker\":{\"colorbar\":{\"outlinewidth\":0,\"ticks\":\"\"}}}],\"scattercarpet\":[{\"type\":\"scattercarpet\",\"marker\":{\"colorbar\":{\"outlinewidth\":0,\"ticks\":\"\"}}}],\"carpet\":[{\"aaxis\":{\"endlinecolor\":\"#2a3f5f\",\"gridcolor\":\"white\",\"linecolor\":\"white\",\"minorgridcolor\":\"white\",\"startlinecolor\":\"#2a3f5f\"},\"baxis\":{\"endlinecolor\":\"#2a3f5f\",\"gridcolor\":\"white\",\"linecolor\":\"white\",\"minorgridcolor\":\"white\",\"startlinecolor\":\"#2a3f5f\"},\"type\":\"carpet\"}],\"table\":[{\"cells\":{\"fill\":{\"color\":\"#EBF0F8\"},\"line\":{\"color\":\"white\"}},\"header\":{\"fill\":{\"color\":\"#C8D4E3\"},\"line\":{\"color\":\"white\"}},\"type\":\"table\"}],\"barpolar\":[{\"marker\":{\"line\":{\"color\":\"#E5ECF6\",\"width\":0.5},\"pattern\":{\"fillmode\":\"overlay\",\"size\":10,\"solidity\":0.2}},\"type\":\"barpolar\"}],\"pie\":[{\"automargin\":true,\"type\":\"pie\"}]},\"layout\":{\"autotypenumbers\":\"strict\",\"colorway\":[\"#636efa\",\"#EF553B\",\"#00cc96\",\"#ab63fa\",\"#FFA15A\",\"#19d3f3\",\"#FF6692\",\"#B6E880\",\"#FF97FF\",\"#FECB52\"],\"font\":{\"color\":\"#2a3f5f\"},\"hovermode\":\"closest\",\"hoverlabel\":{\"align\":\"left\"},\"paper_bgcolor\":\"white\",\"plot_bgcolor\":\"#E5ECF6\",\"polar\":{\"bgcolor\":\"#E5ECF6\",\"angularaxis\":{\"gridcolor\":\"white\",\"linecolor\":\"white\",\"ticks\":\"\"},\"radialaxis\":{\"gridcolor\":\"white\",\"linecolor\":\"white\",\"ticks\":\"\"}},\"ternary\":{\"bgcolor\":\"#E5ECF6\",\"aaxis\":{\"gridcolor\":\"white\",\"linecolor\":\"white\",\"ticks\":\"\"},\"baxis\":{\"gridcolor\":\"white\",\"linecolor\":\"white\",\"ticks\":\"\"},\"caxis\":{\"gridcolor\":\"white\",\"linecolor\":\"white\",\"ticks\":\"\"}},\"coloraxis\":{\"colorbar\":{\"outlinewidth\":0,\"ticks\":\"\"}},\"colorscale\":{\"sequential\":[[0.0,\"#0d0887\"],[0.1111111111111111,\"#46039f\"],[0.2222222222222222,\"#7201a8\"],[0.3333333333333333,\"#9c179e\"],[0.4444444444444444,\"#bd3786\"],[0.5555555555555556,\"#d8576b\"],[0.6666666666666666,\"#ed7953\"],[0.7777777777777778,\"#fb9f3a\"],[0.8888888888888888,\"#fdca26\"],[1.0,\"#f0f921\"]],\"sequentialminus\":[[0.0,\"#0d0887\"],[0.1111111111111111,\"#46039f\"],[0.2222222222222222,\"#7201a8\"],[0.3333333333333333,\"#9c179e\"],[0.4444444444444444,\"#bd3786\"],[0.5555555555555556,\"#d8576b\"],[0.6666666666666666,\"#ed7953\"],[0.7777777777777778,\"#fb9f3a\"],[0.8888888888888888,\"#fdca26\"],[1.0,\"#f0f921\"]],\"diverging\":[[0,\"#8e0152\"],[0.1,\"#c51b7d\"],[0.2,\"#de77ae\"],[0.3,\"#f1b6da\"],[0.4,\"#fde0ef\"],[0.5,\"#f7f7f7\"],[0.6,\"#e6f5d0\"],[0.7,\"#b8e186\"],[0.8,\"#7fbc41\"],[0.9,\"#4d9221\"],[1,\"#276419\"]]},\"xaxis\":{\"gridcolor\":\"white\",\"linecolor\":\"white\",\"ticks\":\"\",\"title\":{\"standoff\":15},\"zerolinecolor\":\"white\",\"automargin\":true,\"zerolinewidth\":2},\"yaxis\":{\"gridcolor\":\"white\",\"linecolor\":\"white\",\"ticks\":\"\",\"title\":{\"standoff\":15},\"zerolinecolor\":\"white\",\"automargin\":true,\"zerolinewidth\":2},\"scene\":{\"xaxis\":{\"backgroundcolor\":\"#E5ECF6\",\"gridcolor\":\"white\",\"linecolor\":\"white\",\"showbackground\":true,\"ticks\":\"\",\"zerolinecolor\":\"white\",\"gridwidth\":2},\"yaxis\":{\"backgroundcolor\":\"#E5ECF6\",\"gridcolor\":\"white\",\"linecolor\":\"white\",\"showbackground\":true,\"ticks\":\"\",\"zerolinecolor\":\"white\",\"gridwidth\":2},\"zaxis\":{\"backgroundcolor\":\"#E5ECF6\",\"gridcolor\":\"white\",\"linecolor\":\"white\",\"showbackground\":true,\"ticks\":\"\",\"zerolinecolor\":\"white\",\"gridwidth\":2}},\"shapedefaults\":{\"line\":{\"color\":\"#2a3f5f\"}},\"annotationdefaults\":{\"arrowcolor\":\"#2a3f5f\",\"arrowhead\":0,\"arrowwidth\":1},\"geo\":{\"bgcolor\":\"white\",\"landcolor\":\"#E5ECF6\",\"subunitcolor\":\"white\",\"showland\":true,\"showlakes\":true,\"lakecolor\":\"white\"},\"title\":{\"x\":0.05},\"mapbox\":{\"style\":\"light\"}}},\"xaxis\":{\"anchor\":\"y\",\"domain\":[0.0,1.0]},\"yaxis\":{\"anchor\":\"x\",\"domain\":[0.0,1.0],\"title\":{\"text\":\"FCR_kg_kg\"}},\"legend\":{\"tracegroupgap\":0},\"margin\":{\"t\":60},\"boxmode\":\"group\",\"height\":500},                        {\"responsive\": true}                    ).then(function(){\n",
       "                            \n",
       "var gd = document.getElementById('4163d585-8667-4a47-ad10-ce0fdfb6dad6');\n",
       "var x = new MutationObserver(function (mutations, observer) {{\n",
       "        var display = window.getComputedStyle(gd).display;\n",
       "        if (!display || display === 'none') {{\n",
       "            console.log([gd, 'removed!']);\n",
       "            Plotly.purge(gd);\n",
       "            observer.disconnect();\n",
       "        }}\n",
       "}});\n",
       "\n",
       "// Listen for the removal of the full notebook cells\n",
       "var notebookContainer = gd.closest('#notebook-container');\n",
       "if (notebookContainer) {{\n",
       "    x.observe(notebookContainer, {childList: true});\n",
       "}}\n",
       "\n",
       "// Listen for the clearing of the current output cell\n",
       "var outputEl = gd.closest('.output');\n",
       "if (outputEl) {{\n",
       "    x.observe(outputEl, {childList: true});\n",
       "}}\n",
       "\n",
       "                        })                };                });            </script>        </div>"
      ]
     },
     "metadata": {},
     "output_type": "display_data"
    },
    {
     "data": {
      "application/vnd.plotly.v1+json": {
       "config": {
        "plotlyServerURL": "https://plot.ly"
       },
       "data": [
        {
         "alignmentgroup": "True",
         "hovertemplate": "Scenario=%{x}<br>FCR_kg_kg=%{y}<extra></extra>",
         "legendgroup": "",
         "marker": {
          "color": "#636efa"
         },
         "name": "",
         "notched": false,
         "offsetgroup": "",
         "orientation": "v",
         "showlegend": false,
         "type": "box",
         "x": [
          "1-M1",
          "1-M1",
          "1-M1",
          "1-M1",
          "1-M1",
          "1-M1",
          "1-M1",
          "1-M1",
          "1-M1",
          "1-M1",
          "1-M1",
          "1-M1",
          "1-M1",
          "1-M1",
          "1-M1",
          "1-M1",
          "1-M1",
          "1-M1",
          "1-M1",
          "1-M1",
          "1-M1",
          "1-M1",
          "1-M1",
          "1-M1",
          "1-M1",
          "1-M1",
          "1-M1",
          "1-M1",
          "1-M1",
          "1-M1",
          "1-M1",
          "1-M1",
          "1-M1",
          "1-M1",
          "1-M1",
          "1-M1",
          "1-M1",
          "1-M1",
          "1-M1",
          "1-M1",
          "1-M1",
          "1-M1",
          "1-M1",
          "1-M1",
          "1-M1",
          "1-M1",
          "1-M1",
          "1-M1",
          "1-M1",
          "1-M1",
          "1-F1",
          "1-F1",
          "1-F1",
          "1-F1",
          "1-F1",
          "1-F1",
          "1-F1",
          "1-F1",
          "1-F1",
          "1-F1",
          "1-F1",
          "1-F1",
          "1-F1",
          "1-F1",
          "1-F1",
          "1-F1",
          "1-F1",
          "1-F1",
          "1-F1",
          "1-F1",
          "1-F1",
          "1-F1",
          "1-F1",
          "1-F1",
          "1-F1",
          "1-F1",
          "1-F1",
          "1-F1",
          "1-F1",
          "1-F1",
          "1-F1",
          "1-F1",
          "1-F1",
          "1-F1",
          "1-F1",
          "1-F1",
          "1-F1",
          "1-F1",
          "1-F1",
          "1-F1",
          "1-F1",
          "1-F1",
          "1-F1",
          "1-F1",
          "1-F1",
          "1-F1",
          "1-F1",
          "1-F1",
          "1-F1",
          "1-F1",
          "Step1_multiphase",
          "Step1_multiphase",
          "Step1_multiphase",
          "Step1_multiphase",
          "Step1_multiphase",
          "Step1_multiphase",
          "Step1_multiphase",
          "Step1_multiphase",
          "Step1_multiphase",
          "Step1_multiphase",
          "Step1_multiphase",
          "Step1_multiphase",
          "Step1_multiphase",
          "Step1_multiphase",
          "Step1_multiphase",
          "Step1_multiphase",
          "Step1_multiphase",
          "Step1_multiphase",
          "Step1_multiphase",
          "Step1_multiphase",
          "Step1_multiphase",
          "Step1_multiphase",
          "Step1_multiphase",
          "Step1_multiphase",
          "Step1_multiphase",
          "Step1_multiphase",
          "Step1_multiphase",
          "Step1_multiphase",
          "Step1_multiphase",
          "Step1_multiphase",
          "Step1_multiphase",
          "Step1_multiphase",
          "Step1_multiphase",
          "Step1_multiphase",
          "Step1_multiphase",
          "Step1_multiphase",
          "Step1_multiphase",
          "Step1_multiphase",
          "Step1_multiphase",
          "Step1_multiphase",
          "Step1_multiphase",
          "Step1_multiphase",
          "Step1_multiphase",
          "Step1_multiphase",
          "Step1_multiphase",
          "Step1_multiphase",
          "Step1_multiphase",
          "Step1_multiphase",
          "Step1_multiphase",
          "Step1_multiphase",
          "Step1_multiphase",
          "Step1_multiphase",
          "Step1_multiphase",
          "Step1_multiphase",
          "Step1_multiphase",
          "Step1_multiphase",
          "Step1_multiphase",
          "Step1_multiphase",
          "Step1_multiphase",
          "Step1_multiphase",
          "Step1_multiphase",
          "Step1_multiphase",
          "Step1_multiphase",
          "Step1_multiphase",
          "Step1_multiphase",
          "Step1_multiphase",
          "Step1_multiphase",
          "Step1_multiphase",
          "Step1_multiphase",
          "Step1_multiphase",
          "Step1_multiphase",
          "Step1_multiphase",
          "Step1_multiphase",
          "Step1_multiphase",
          "Step1_multiphase"
         ],
         "x0": " ",
         "xaxis": "x",
         "y": [
          134.484,
          134.484,
          134.484,
          134.484,
          134.484,
          134.484,
          134.484,
          134.484,
          134.484,
          134.484,
          134.484,
          134.484,
          134.484,
          134.484,
          134.484,
          134.484,
          134.484,
          134.484,
          134.484,
          134.484,
          134.484,
          134.484,
          134.484,
          134.484,
          134.484,
          134.484,
          134.484,
          134.484,
          134.484,
          134.484,
          134.484,
          134.484,
          134.484,
          134.484,
          134.484,
          134.484,
          134.484,
          134.484,
          134.484,
          134.484,
          134.484,
          134.484,
          134.484,
          134.484,
          134.484,
          134.484,
          134.484,
          134.484,
          134.484,
          134.484,
          133.528,
          133.528,
          133.528,
          133.528,
          133.528,
          133.528,
          133.528,
          133.528,
          133.528,
          133.528,
          133.528,
          133.528,
          133.528,
          133.528,
          133.528,
          133.528,
          133.528,
          133.528,
          133.528,
          133.528,
          133.528,
          133.528,
          133.528,
          133.528,
          133.528,
          133.528,
          133.528,
          133.528,
          133.528,
          133.528,
          133.528,
          133.528,
          133.528,
          133.528,
          133.528,
          133.528,
          133.528,
          133.528,
          133.528,
          133.528,
          133.528,
          133.528,
          133.528,
          133.528,
          133.528,
          133.528,
          133.528,
          133.528,
          133.528,
          133.528,
          2.668,
          2.806,
          2.894,
          2.921,
          2.781,
          2.675,
          2.686,
          2.739,
          2.662,
          3.167,
          2.593,
          2.583,
          2.572,
          3.083,
          2.758,
          3.178,
          2.665,
          2.916,
          2.895,
          2.771,
          2.909,
          2.962,
          3.52,
          3.053,
          2.466,
          2.791,
          2.897,
          2.623,
          2.908,
          2.768,
          2.95,
          2.971,
          2.627,
          3.074,
          2.893,
          2.977,
          2.685,
          3.091,
          2.629,
          2.905,
          2.782,
          2.967,
          2.827,
          2.726,
          2.802,
          2.907,
          2.614,
          2.677,
          2.78,
          2.769,
          2.912,
          2.904,
          2.977,
          2.791,
          2.759,
          3.759,
          2.822,
          2.911,
          3.089,
          3.594,
          2.932,
          2.704,
          3.046,
          3.027,
          2.978,
          2.845,
          3.893,
          2.704,
          3.429,
          3.326,
          3.336,
          3.432,
          2.989,
          3.195,
          3.399
         ],
         "y0": " ",
         "yaxis": "y"
        }
       ],
       "layout": {
        "autosize": true,
        "boxmode": "group",
        "legend": {
         "tracegroupgap": 0
        },
        "margin": {
         "t": 60
        },
        "template": {
         "data": {
          "bar": [
           {
            "error_x": {
             "color": "#2a3f5f"
            },
            "error_y": {
             "color": "#2a3f5f"
            },
            "marker": {
             "line": {
              "color": "#E5ECF6",
              "width": 0.5
             },
             "pattern": {
              "fillmode": "overlay",
              "size": 10,
              "solidity": 0.2
             }
            },
            "type": "bar"
           }
          ],
          "barpolar": [
           {
            "marker": {
             "line": {
              "color": "#E5ECF6",
              "width": 0.5
             },
             "pattern": {
              "fillmode": "overlay",
              "size": 10,
              "solidity": 0.2
             }
            },
            "type": "barpolar"
           }
          ],
          "carpet": [
           {
            "aaxis": {
             "endlinecolor": "#2a3f5f",
             "gridcolor": "white",
             "linecolor": "white",
             "minorgridcolor": "white",
             "startlinecolor": "#2a3f5f"
            },
            "baxis": {
             "endlinecolor": "#2a3f5f",
             "gridcolor": "white",
             "linecolor": "white",
             "minorgridcolor": "white",
             "startlinecolor": "#2a3f5f"
            },
            "type": "carpet"
           }
          ],
          "choropleth": [
           {
            "colorbar": {
             "outlinewidth": 0,
             "ticks": ""
            },
            "type": "choropleth"
           }
          ],
          "contour": [
           {
            "colorbar": {
             "outlinewidth": 0,
             "ticks": ""
            },
            "colorscale": [
             [
              0,
              "#0d0887"
             ],
             [
              0.1111111111111111,
              "#46039f"
             ],
             [
              0.2222222222222222,
              "#7201a8"
             ],
             [
              0.3333333333333333,
              "#9c179e"
             ],
             [
              0.4444444444444444,
              "#bd3786"
             ],
             [
              0.5555555555555556,
              "#d8576b"
             ],
             [
              0.6666666666666666,
              "#ed7953"
             ],
             [
              0.7777777777777778,
              "#fb9f3a"
             ],
             [
              0.8888888888888888,
              "#fdca26"
             ],
             [
              1,
              "#f0f921"
             ]
            ],
            "type": "contour"
           }
          ],
          "contourcarpet": [
           {
            "colorbar": {
             "outlinewidth": 0,
             "ticks": ""
            },
            "type": "contourcarpet"
           }
          ],
          "heatmap": [
           {
            "colorbar": {
             "outlinewidth": 0,
             "ticks": ""
            },
            "colorscale": [
             [
              0,
              "#0d0887"
             ],
             [
              0.1111111111111111,
              "#46039f"
             ],
             [
              0.2222222222222222,
              "#7201a8"
             ],
             [
              0.3333333333333333,
              "#9c179e"
             ],
             [
              0.4444444444444444,
              "#bd3786"
             ],
             [
              0.5555555555555556,
              "#d8576b"
             ],
             [
              0.6666666666666666,
              "#ed7953"
             ],
             [
              0.7777777777777778,
              "#fb9f3a"
             ],
             [
              0.8888888888888888,
              "#fdca26"
             ],
             [
              1,
              "#f0f921"
             ]
            ],
            "type": "heatmap"
           }
          ],
          "heatmapgl": [
           {
            "colorbar": {
             "outlinewidth": 0,
             "ticks": ""
            },
            "colorscale": [
             [
              0,
              "#0d0887"
             ],
             [
              0.1111111111111111,
              "#46039f"
             ],
             [
              0.2222222222222222,
              "#7201a8"
             ],
             [
              0.3333333333333333,
              "#9c179e"
             ],
             [
              0.4444444444444444,
              "#bd3786"
             ],
             [
              0.5555555555555556,
              "#d8576b"
             ],
             [
              0.6666666666666666,
              "#ed7953"
             ],
             [
              0.7777777777777778,
              "#fb9f3a"
             ],
             [
              0.8888888888888888,
              "#fdca26"
             ],
             [
              1,
              "#f0f921"
             ]
            ],
            "type": "heatmapgl"
           }
          ],
          "histogram": [
           {
            "marker": {
             "pattern": {
              "fillmode": "overlay",
              "size": 10,
              "solidity": 0.2
             }
            },
            "type": "histogram"
           }
          ],
          "histogram2d": [
           {
            "colorbar": {
             "outlinewidth": 0,
             "ticks": ""
            },
            "colorscale": [
             [
              0,
              "#0d0887"
             ],
             [
              0.1111111111111111,
              "#46039f"
             ],
             [
              0.2222222222222222,
              "#7201a8"
             ],
             [
              0.3333333333333333,
              "#9c179e"
             ],
             [
              0.4444444444444444,
              "#bd3786"
             ],
             [
              0.5555555555555556,
              "#d8576b"
             ],
             [
              0.6666666666666666,
              "#ed7953"
             ],
             [
              0.7777777777777778,
              "#fb9f3a"
             ],
             [
              0.8888888888888888,
              "#fdca26"
             ],
             [
              1,
              "#f0f921"
             ]
            ],
            "type": "histogram2d"
           }
          ],
          "histogram2dcontour": [
           {
            "colorbar": {
             "outlinewidth": 0,
             "ticks": ""
            },
            "colorscale": [
             [
              0,
              "#0d0887"
             ],
             [
              0.1111111111111111,
              "#46039f"
             ],
             [
              0.2222222222222222,
              "#7201a8"
             ],
             [
              0.3333333333333333,
              "#9c179e"
             ],
             [
              0.4444444444444444,
              "#bd3786"
             ],
             [
              0.5555555555555556,
              "#d8576b"
             ],
             [
              0.6666666666666666,
              "#ed7953"
             ],
             [
              0.7777777777777778,
              "#fb9f3a"
             ],
             [
              0.8888888888888888,
              "#fdca26"
             ],
             [
              1,
              "#f0f921"
             ]
            ],
            "type": "histogram2dcontour"
           }
          ],
          "mesh3d": [
           {
            "colorbar": {
             "outlinewidth": 0,
             "ticks": ""
            },
            "type": "mesh3d"
           }
          ],
          "parcoords": [
           {
            "line": {
             "colorbar": {
              "outlinewidth": 0,
              "ticks": ""
             }
            },
            "type": "parcoords"
           }
          ],
          "pie": [
           {
            "automargin": true,
            "type": "pie"
           }
          ],
          "scatter": [
           {
            "fillpattern": {
             "fillmode": "overlay",
             "size": 10,
             "solidity": 0.2
            },
            "type": "scatter"
           }
          ],
          "scatter3d": [
           {
            "line": {
             "colorbar": {
              "outlinewidth": 0,
              "ticks": ""
             }
            },
            "marker": {
             "colorbar": {
              "outlinewidth": 0,
              "ticks": ""
             }
            },
            "type": "scatter3d"
           }
          ],
          "scattercarpet": [
           {
            "marker": {
             "colorbar": {
              "outlinewidth": 0,
              "ticks": ""
             }
            },
            "type": "scattercarpet"
           }
          ],
          "scattergeo": [
           {
            "marker": {
             "colorbar": {
              "outlinewidth": 0,
              "ticks": ""
             }
            },
            "type": "scattergeo"
           }
          ],
          "scattergl": [
           {
            "marker": {
             "colorbar": {
              "outlinewidth": 0,
              "ticks": ""
             }
            },
            "type": "scattergl"
           }
          ],
          "scattermapbox": [
           {
            "marker": {
             "colorbar": {
              "outlinewidth": 0,
              "ticks": ""
             }
            },
            "type": "scattermapbox"
           }
          ],
          "scatterpolar": [
           {
            "marker": {
             "colorbar": {
              "outlinewidth": 0,
              "ticks": ""
             }
            },
            "type": "scatterpolar"
           }
          ],
          "scatterpolargl": [
           {
            "marker": {
             "colorbar": {
              "outlinewidth": 0,
              "ticks": ""
             }
            },
            "type": "scatterpolargl"
           }
          ],
          "scatterternary": [
           {
            "marker": {
             "colorbar": {
              "outlinewidth": 0,
              "ticks": ""
             }
            },
            "type": "scatterternary"
           }
          ],
          "surface": [
           {
            "colorbar": {
             "outlinewidth": 0,
             "ticks": ""
            },
            "colorscale": [
             [
              0,
              "#0d0887"
             ],
             [
              0.1111111111111111,
              "#46039f"
             ],
             [
              0.2222222222222222,
              "#7201a8"
             ],
             [
              0.3333333333333333,
              "#9c179e"
             ],
             [
              0.4444444444444444,
              "#bd3786"
             ],
             [
              0.5555555555555556,
              "#d8576b"
             ],
             [
              0.6666666666666666,
              "#ed7953"
             ],
             [
              0.7777777777777778,
              "#fb9f3a"
             ],
             [
              0.8888888888888888,
              "#fdca26"
             ],
             [
              1,
              "#f0f921"
             ]
            ],
            "type": "surface"
           }
          ],
          "table": [
           {
            "cells": {
             "fill": {
              "color": "#EBF0F8"
             },
             "line": {
              "color": "white"
             }
            },
            "header": {
             "fill": {
              "color": "#C8D4E3"
             },
             "line": {
              "color": "white"
             }
            },
            "type": "table"
           }
          ]
         },
         "layout": {
          "annotationdefaults": {
           "arrowcolor": "#2a3f5f",
           "arrowhead": 0,
           "arrowwidth": 1
          },
          "autotypenumbers": "strict",
          "coloraxis": {
           "colorbar": {
            "outlinewidth": 0,
            "ticks": ""
           }
          },
          "colorscale": {
           "diverging": [
            [
             0,
             "#8e0152"
            ],
            [
             0.1,
             "#c51b7d"
            ],
            [
             0.2,
             "#de77ae"
            ],
            [
             0.3,
             "#f1b6da"
            ],
            [
             0.4,
             "#fde0ef"
            ],
            [
             0.5,
             "#f7f7f7"
            ],
            [
             0.6,
             "#e6f5d0"
            ],
            [
             0.7,
             "#b8e186"
            ],
            [
             0.8,
             "#7fbc41"
            ],
            [
             0.9,
             "#4d9221"
            ],
            [
             1,
             "#276419"
            ]
           ],
           "sequential": [
            [
             0,
             "#0d0887"
            ],
            [
             0.1111111111111111,
             "#46039f"
            ],
            [
             0.2222222222222222,
             "#7201a8"
            ],
            [
             0.3333333333333333,
             "#9c179e"
            ],
            [
             0.4444444444444444,
             "#bd3786"
            ],
            [
             0.5555555555555556,
             "#d8576b"
            ],
            [
             0.6666666666666666,
             "#ed7953"
            ],
            [
             0.7777777777777778,
             "#fb9f3a"
            ],
            [
             0.8888888888888888,
             "#fdca26"
            ],
            [
             1,
             "#f0f921"
            ]
           ],
           "sequentialminus": [
            [
             0,
             "#0d0887"
            ],
            [
             0.1111111111111111,
             "#46039f"
            ],
            [
             0.2222222222222222,
             "#7201a8"
            ],
            [
             0.3333333333333333,
             "#9c179e"
            ],
            [
             0.4444444444444444,
             "#bd3786"
            ],
            [
             0.5555555555555556,
             "#d8576b"
            ],
            [
             0.6666666666666666,
             "#ed7953"
            ],
            [
             0.7777777777777778,
             "#fb9f3a"
            ],
            [
             0.8888888888888888,
             "#fdca26"
            ],
            [
             1,
             "#f0f921"
            ]
           ]
          },
          "colorway": [
           "#636efa",
           "#EF553B",
           "#00cc96",
           "#ab63fa",
           "#FFA15A",
           "#19d3f3",
           "#FF6692",
           "#B6E880",
           "#FF97FF",
           "#FECB52"
          ],
          "font": {
           "color": "#2a3f5f"
          },
          "geo": {
           "bgcolor": "white",
           "lakecolor": "white",
           "landcolor": "#E5ECF6",
           "showlakes": true,
           "showland": true,
           "subunitcolor": "white"
          },
          "hoverlabel": {
           "align": "left"
          },
          "hovermode": "closest",
          "mapbox": {
           "style": "light"
          },
          "paper_bgcolor": "white",
          "plot_bgcolor": "#E5ECF6",
          "polar": {
           "angularaxis": {
            "gridcolor": "white",
            "linecolor": "white",
            "ticks": ""
           },
           "bgcolor": "#E5ECF6",
           "radialaxis": {
            "gridcolor": "white",
            "linecolor": "white",
            "ticks": ""
           }
          },
          "scene": {
           "xaxis": {
            "backgroundcolor": "#E5ECF6",
            "gridcolor": "white",
            "gridwidth": 2,
            "linecolor": "white",
            "showbackground": true,
            "ticks": "",
            "zerolinecolor": "white"
           },
           "yaxis": {
            "backgroundcolor": "#E5ECF6",
            "gridcolor": "white",
            "gridwidth": 2,
            "linecolor": "white",
            "showbackground": true,
            "ticks": "",
            "zerolinecolor": "white"
           },
           "zaxis": {
            "backgroundcolor": "#E5ECF6",
            "gridcolor": "white",
            "gridwidth": 2,
            "linecolor": "white",
            "showbackground": true,
            "ticks": "",
            "zerolinecolor": "white"
           }
          },
          "shapedefaults": {
           "line": {
            "color": "#2a3f5f"
           }
          },
          "ternary": {
           "aaxis": {
            "gridcolor": "white",
            "linecolor": "white",
            "ticks": ""
           },
           "baxis": {
            "gridcolor": "white",
            "linecolor": "white",
            "ticks": ""
           },
           "bgcolor": "#E5ECF6",
           "caxis": {
            "gridcolor": "white",
            "linecolor": "white",
            "ticks": ""
           }
          },
          "title": {
           "x": 0.05
          },
          "xaxis": {
           "automargin": true,
           "gridcolor": "white",
           "linecolor": "white",
           "ticks": "",
           "title": {
            "standoff": 15
           },
           "zerolinecolor": "white",
           "zerolinewidth": 2
          },
          "yaxis": {
           "automargin": true,
           "gridcolor": "white",
           "linecolor": "white",
           "ticks": "",
           "title": {
            "standoff": 15
           },
           "zerolinecolor": "white",
           "zerolinewidth": 2
          }
         }
        },
        "xaxis": {
         "anchor": "y",
         "autorange": true,
         "domain": [
          0,
          1
         ],
         "range": [
          -0.5,
          2.5
         ],
         "title": {
          "text": "Scenario"
         },
         "type": "category"
        },
        "yaxis": {
         "anchor": "x",
         "autorange": true,
         "domain": [
          0,
          1
         ],
         "range": [
          -4.868333333333333,
          141.81833333333333
         ],
         "title": {
          "text": "FCR_kg_kg"
         },
         "type": "linear"
        }
       }
      },
      "image/png": "[encoded data removed]",
      "text/html": [
       "<div>                            <div id=\"fa67b504-ed21-4018-8647-f1ca126631b0\" class=\"plotly-graph-div\" style=\"height:500px; width:100%;\"></div>            <script type=\"text/javascript\">                require([\"plotly\"], function(Plotly) {                    window.PLOTLYENV=window.PLOTLYENV || {};                                    if (document.getElementById(\"fa67b504-ed21-4018-8647-f1ca126631b0\")) {                    Plotly.newPlot(                        \"fa67b504-ed21-4018-8647-f1ca126631b0\",                        [{\"alignmentgroup\":\"True\",\"hovertemplate\":\"Scenario=%{x}<br>FCR_kg_kg=%{y}<extra></extra>\",\"legendgroup\":\"\",\"marker\":{\"color\":\"#636efa\"},\"name\":\"\",\"notched\":false,\"offsetgroup\":\"\",\"orientation\":\"v\",\"showlegend\":false,\"x\":[\"1-M1\",\"1-M1\",\"1-M1\",\"1-M1\",\"1-M1\",\"1-M1\",\"1-M1\",\"1-M1\",\"1-M1\",\"1-M1\",\"1-M1\",\"1-M1\",\"1-M1\",\"1-M1\",\"1-M1\",\"1-M1\",\"1-M1\",\"1-M1\",\"1-M1\",\"1-M1\",\"1-M1\",\"1-M1\",\"1-M1\",\"1-M1\",\"1-M1\",\"1-M1\",\"1-M1\",\"1-M1\",\"1-M1\",\"1-M1\",\"1-M1\",\"1-M1\",\"1-M1\",\"1-M1\",\"1-M1\",\"1-M1\",\"1-M1\",\"1-M1\",\"1-M1\",\"1-M1\",\"1-M1\",\"1-M1\",\"1-M1\",\"1-M1\",\"1-M1\",\"1-M1\",\"1-M1\",\"1-M1\",\"1-M1\",\"1-M1\",\"1-F1\",\"1-F1\",\"1-F1\",\"1-F1\",\"1-F1\",\"1-F1\",\"1-F1\",\"1-F1\",\"1-F1\",\"1-F1\",\"1-F1\",\"1-F1\",\"1-F1\",\"1-F1\",\"1-F1\",\"1-F1\",\"1-F1\",\"1-F1\",\"1-F1\",\"1-F1\",\"1-F1\",\"1-F1\",\"1-F1\",\"1-F1\",\"1-F1\",\"1-F1\",\"1-F1\",\"1-F1\",\"1-F1\",\"1-F1\",\"1-F1\",\"1-F1\",\"1-F1\",\"1-F1\",\"1-F1\",\"1-F1\",\"1-F1\",\"1-F1\",\"1-F1\",\"1-F1\",\"1-F1\",\"1-F1\",\"1-F1\",\"1-F1\",\"1-F1\",\"1-F1\",\"1-F1\",\"1-F1\",\"1-F1\",\"1-F1\",\"Step1_multiphase\",\"Step1_multiphase\",\"Step1_multiphase\",\"Step1_multiphase\",\"Step1_multiphase\",\"Step1_multiphase\",\"Step1_multiphase\",\"Step1_multiphase\",\"Step1_multiphase\",\"Step1_multiphase\",\"Step1_multiphase\",\"Step1_multiphase\",\"Step1_multiphase\",\"Step1_multiphase\",\"Step1_multiphase\",\"Step1_multiphase\",\"Step1_multiphase\",\"Step1_multiphase\",\"Step1_multiphase\",\"Step1_multiphase\",\"Step1_multiphase\",\"Step1_multiphase\",\"Step1_multiphase\",\"Step1_multiphase\",\"Step1_multiphase\",\"Step1_multiphase\",\"Step1_multiphase\",\"Step1_multiphase\",\"Step1_multiphase\",\"Step1_multiphase\",\"Step1_multiphase\",\"Step1_multiphase\",\"Step1_multiphase\",\"Step1_multiphase\",\"Step1_multiphase\",\"Step1_multiphase\",\"Step1_multiphase\",\"Step1_multiphase\",\"Step1_multiphase\",\"Step1_multiphase\",\"Step1_multiphase\",\"Step1_multiphase\",\"Step1_multiphase\",\"Step1_multiphase\",\"Step1_multiphase\",\"Step1_multiphase\",\"Step1_multiphase\",\"Step1_multiphase\",\"Step1_multiphase\",\"Step1_multiphase\",\"Step1_multiphase\",\"Step1_multiphase\",\"Step1_multiphase\",\"Step1_multiphase\",\"Step1_multiphase\",\"Step1_multiphase\",\"Step1_multiphase\",\"Step1_multiphase\",\"Step1_multiphase\",\"Step1_multiphase\",\"Step1_multiphase\",\"Step1_multiphase\",\"Step1_multiphase\",\"Step1_multiphase\",\"Step1_multiphase\",\"Step1_multiphase\",\"Step1_multiphase\",\"Step1_multiphase\",\"Step1_multiphase\",\"Step1_multiphase\",\"Step1_multiphase\",\"Step1_multiphase\",\"Step1_multiphase\",\"Step1_multiphase\",\"Step1_multiphase\"],\"x0\":\" \",\"xaxis\":\"x\",\"y\":[134.484,134.484,134.484,134.484,134.484,134.484,134.484,134.484,134.484,134.484,134.484,134.484,134.484,134.484,134.484,134.484,134.484,134.484,134.484,134.484,134.484,134.484,134.484,134.484,134.484,134.484,134.484,134.484,134.484,134.484,134.484,134.484,134.484,134.484,134.484,134.484,134.484,134.484,134.484,134.484,134.484,134.484,134.484,134.484,134.484,134.484,134.484,134.484,134.484,134.484,133.528,133.528,133.528,133.528,133.528,133.528,133.528,133.528,133.528,133.528,133.528,133.528,133.528,133.528,133.528,133.528,133.528,133.528,133.528,133.528,133.528,133.528,133.528,133.528,133.528,133.528,133.528,133.528,133.528,133.528,133.528,133.528,133.528,133.528,133.528,133.528,133.528,133.528,133.528,133.528,133.528,133.528,133.528,133.528,133.528,133.528,133.528,133.528,133.528,133.528,2.668,2.806,2.894,2.921,2.781,2.675,2.686,2.739,2.662,3.167,2.593,2.583,2.572,3.083,2.758,3.178,2.665,2.916,2.895,2.771,2.909,2.962,3.52,3.053,2.466,2.791,2.897,2.623,2.908,2.768,2.95,2.971,2.627,3.074,2.893,2.977,2.685,3.091,2.629,2.905,2.782,2.967,2.827,2.726,2.802,2.907,2.614,2.677,2.78,2.769,2.912,2.904,2.977,2.791,2.759,3.759,2.822,2.911,3.089,3.594,2.932,2.704,3.046,3.027,2.978,2.845,3.893,2.704,3.429,3.326,3.336,3.432,2.989,3.195,3.399],\"y0\":\" \",\"yaxis\":\"y\",\"type\":\"box\"}],                        {\"template\":{\"data\":{\"histogram2dcontour\":[{\"type\":\"histogram2dcontour\",\"colorbar\":{\"outlinewidth\":0,\"ticks\":\"\"},\"colorscale\":[[0.0,\"#0d0887\"],[0.1111111111111111,\"#46039f\"],[0.2222222222222222,\"#7201a8\"],[0.3333333333333333,\"#9c179e\"],[0.4444444444444444,\"#bd3786\"],[0.5555555555555556,\"#d8576b\"],[0.6666666666666666,\"#ed7953\"],[0.7777777777777778,\"#fb9f3a\"],[0.8888888888888888,\"#fdca26\"],[1.0,\"#f0f921\"]]}],\"choropleth\":[{\"type\":\"choropleth\",\"colorbar\":{\"outlinewidth\":0,\"ticks\":\"\"}}],\"histogram2d\":[{\"type\":\"histogram2d\",\"colorbar\":{\"outlinewidth\":0,\"ticks\":\"\"},\"colorscale\":[[0.0,\"#0d0887\"],[0.1111111111111111,\"#46039f\"],[0.2222222222222222,\"#7201a8\"],[0.3333333333333333,\"#9c179e\"],[0.4444444444444444,\"#bd3786\"],[0.5555555555555556,\"#d8576b\"],[0.6666666666666666,\"#ed7953\"],[0.7777777777777778,\"#fb9f3a\"],[0.8888888888888888,\"#fdca26\"],[1.0,\"#f0f921\"]]}],\"heatmap\":[{\"type\":\"heatmap\",\"colorbar\":{\"outlinewidth\":0,\"ticks\":\"\"},\"colorscale\":[[0.0,\"#0d0887\"],[0.1111111111111111,\"#46039f\"],[0.2222222222222222,\"#7201a8\"],[0.3333333333333333,\"#9c179e\"],[0.4444444444444444,\"#bd3786\"],[0.5555555555555556,\"#d8576b\"],[0.6666666666666666,\"#ed7953\"],[0.7777777777777778,\"#fb9f3a\"],[0.8888888888888888,\"#fdca26\"],[1.0,\"#f0f921\"]]}],\"heatmapgl\":[{\"type\":\"heatmapgl\",\"colorbar\":{\"outlinewidth\":0,\"ticks\":\"\"},\"colorscale\":[[0.0,\"#0d0887\"],[0.1111111111111111,\"#46039f\"],[0.2222222222222222,\"#7201a8\"],[0.3333333333333333,\"#9c179e\"],[0.4444444444444444,\"#bd3786\"],[0.5555555555555556,\"#d8576b\"],[0.6666666666666666,\"#ed7953\"],[0.7777777777777778,\"#fb9f3a\"],[0.8888888888888888,\"#fdca26\"],[1.0,\"#f0f921\"]]}],\"contourcarpet\":[{\"type\":\"contourcarpet\",\"colorbar\":{\"outlinewidth\":0,\"ticks\":\"\"}}],\"contour\":[{\"type\":\"contour\",\"colorbar\":{\"outlinewidth\":0,\"ticks\":\"\"},\"colorscale\":[[0.0,\"#0d0887\"],[0.1111111111111111,\"#46039f\"],[0.2222222222222222,\"#7201a8\"],[0.3333333333333333,\"#9c179e\"],[0.4444444444444444,\"#bd3786\"],[0.5555555555555556,\"#d8576b\"],[0.6666666666666666,\"#ed7953\"],[0.7777777777777778,\"#fb9f3a\"],[0.8888888888888888,\"#fdca26\"],[1.0,\"#f0f921\"]]}],\"surface\":[{\"type\":\"surface\",\"colorbar\":{\"outlinewidth\":0,\"ticks\":\"\"},\"colorscale\":[[0.0,\"#0d0887\"],[0.1111111111111111,\"#46039f\"],[0.2222222222222222,\"#7201a8\"],[0.3333333333333333,\"#9c179e\"],[0.4444444444444444,\"#bd3786\"],[0.5555555555555556,\"#d8576b\"],[0.6666666666666666,\"#ed7953\"],[0.7777777777777778,\"#fb9f3a\"],[0.8888888888888888,\"#fdca26\"],[1.0,\"#f0f921\"]]}],\"mesh3d\":[{\"type\":\"mesh3d\",\"colorbar\":{\"outlinewidth\":0,\"ticks\":\"\"}}],\"scatter\":[{\"fillpattern\":{\"fillmode\":\"overlay\",\"size\":10,\"solidity\":0.2},\"type\":\"scatter\"}],\"parcoords\":[{\"type\":\"parcoords\",\"line\":{\"colorbar\":{\"outlinewidth\":0,\"ticks\":\"\"}}}],\"scatterpolargl\":[{\"type\":\"scatterpolargl\",\"marker\":{\"colorbar\":{\"outlinewidth\":0,\"ticks\":\"\"}}}],\"bar\":[{\"error_x\":{\"color\":\"#2a3f5f\"},\"error_y\":{\"color\":\"#2a3f5f\"},\"marker\":{\"line\":{\"color\":\"#E5ECF6\",\"width\":0.5},\"pattern\":{\"fillmode\":\"overlay\",\"size\":10,\"solidity\":0.2}},\"type\":\"bar\"}],\"scattergeo\":[{\"type\":\"scattergeo\",\"marker\":{\"colorbar\":{\"outlinewidth\":0,\"ticks\":\"\"}}}],\"scatterpolar\":[{\"type\":\"scatterpolar\",\"marker\":{\"colorbar\":{\"outlinewidth\":0,\"ticks\":\"\"}}}],\"histogram\":[{\"marker\":{\"pattern\":{\"fillmode\":\"overlay\",\"size\":10,\"solidity\":0.2}},\"type\":\"histogram\"}],\"scattergl\":[{\"type\":\"scattergl\",\"marker\":{\"colorbar\":{\"outlinewidth\":0,\"ticks\":\"\"}}}],\"scatter3d\":[{\"type\":\"scatter3d\",\"line\":{\"colorbar\":{\"outlinewidth\":0,\"ticks\":\"\"}},\"marker\":{\"colorbar\":{\"outlinewidth\":0,\"ticks\":\"\"}}}],\"scattermapbox\":[{\"type\":\"scattermapbox\",\"marker\":{\"colorbar\":{\"outlinewidth\":0,\"ticks\":\"\"}}}],\"scatterternary\":[{\"type\":\"scatterternary\",\"marker\":{\"colorbar\":{\"outlinewidth\":0,\"ticks\":\"\"}}}],\"scattercarpet\":[{\"type\":\"scattercarpet\",\"marker\":{\"colorbar\":{\"outlinewidth\":0,\"ticks\":\"\"}}}],\"carpet\":[{\"aaxis\":{\"endlinecolor\":\"#2a3f5f\",\"gridcolor\":\"white\",\"linecolor\":\"white\",\"minorgridcolor\":\"white\",\"startlinecolor\":\"#2a3f5f\"},\"baxis\":{\"endlinecolor\":\"#2a3f5f\",\"gridcolor\":\"white\",\"linecolor\":\"white\",\"minorgridcolor\":\"white\",\"startlinecolor\":\"#2a3f5f\"},\"type\":\"carpet\"}],\"table\":[{\"cells\":{\"fill\":{\"color\":\"#EBF0F8\"},\"line\":{\"color\":\"white\"}},\"header\":{\"fill\":{\"color\":\"#C8D4E3\"},\"line\":{\"color\":\"white\"}},\"type\":\"table\"}],\"barpolar\":[{\"marker\":{\"line\":{\"color\":\"#E5ECF6\",\"width\":0.5},\"pattern\":{\"fillmode\":\"overlay\",\"size\":10,\"solidity\":0.2}},\"type\":\"barpolar\"}],\"pie\":[{\"automargin\":true,\"type\":\"pie\"}]},\"layout\":{\"autotypenumbers\":\"strict\",\"colorway\":[\"#636efa\",\"#EF553B\",\"#00cc96\",\"#ab63fa\",\"#FFA15A\",\"#19d3f3\",\"#FF6692\",\"#B6E880\",\"#FF97FF\",\"#FECB52\"],\"font\":{\"color\":\"#2a3f5f\"},\"hovermode\":\"closest\",\"hoverlabel\":{\"align\":\"left\"},\"paper_bgcolor\":\"white\",\"plot_bgcolor\":\"#E5ECF6\",\"polar\":{\"bgcolor\":\"#E5ECF6\",\"angularaxis\":{\"gridcolor\":\"white\",\"linecolor\":\"white\",\"ticks\":\"\"},\"radialaxis\":{\"gridcolor\":\"white\",\"linecolor\":\"white\",\"ticks\":\"\"}},\"ternary\":{\"bgcolor\":\"#E5ECF6\",\"aaxis\":{\"gridcolor\":\"white\",\"linecolor\":\"white\",\"ticks\":\"\"},\"baxis\":{\"gridcolor\":\"white\",\"linecolor\":\"white\",\"ticks\":\"\"},\"caxis\":{\"gridcolor\":\"white\",\"linecolor\":\"white\",\"ticks\":\"\"}},\"coloraxis\":{\"colorbar\":{\"outlinewidth\":0,\"ticks\":\"\"}},\"colorscale\":{\"sequential\":[[0.0,\"#0d0887\"],[0.1111111111111111,\"#46039f\"],[0.2222222222222222,\"#7201a8\"],[0.3333333333333333,\"#9c179e\"],[0.4444444444444444,\"#bd3786\"],[0.5555555555555556,\"#d8576b\"],[0.6666666666666666,\"#ed7953\"],[0.7777777777777778,\"#fb9f3a\"],[0.8888888888888888,\"#fdca26\"],[1.0,\"#f0f921\"]],\"sequentialminus\":[[0.0,\"#0d0887\"],[0.1111111111111111,\"#46039f\"],[0.2222222222222222,\"#7201a8\"],[0.3333333333333333,\"#9c179e\"],[0.4444444444444444,\"#bd3786\"],[0.5555555555555556,\"#d8576b\"],[0.6666666666666666,\"#ed7953\"],[0.7777777777777778,\"#fb9f3a\"],[0.8888888888888888,\"#fdca26\"],[1.0,\"#f0f921\"]],\"diverging\":[[0,\"#8e0152\"],[0.1,\"#c51b7d\"],[0.2,\"#de77ae\"],[0.3,\"#f1b6da\"],[0.4,\"#fde0ef\"],[0.5,\"#f7f7f7\"],[0.6,\"#e6f5d0\"],[0.7,\"#b8e186\"],[0.8,\"#7fbc41\"],[0.9,\"#4d9221\"],[1,\"#276419\"]]},\"xaxis\":{\"gridcolor\":\"white\",\"linecolor\":\"white\",\"ticks\":\"\",\"title\":{\"standoff\":15},\"zerolinecolor\":\"white\",\"automargin\":true,\"zerolinewidth\":2},\"yaxis\":{\"gridcolor\":\"white\",\"linecolor\":\"white\",\"ticks\":\"\",\"title\":{\"standoff\":15},\"zerolinecolor\":\"white\",\"automargin\":true,\"zerolinewidth\":2},\"scene\":{\"xaxis\":{\"backgroundcolor\":\"#E5ECF6\",\"gridcolor\":\"white\",\"linecolor\":\"white\",\"showbackground\":true,\"ticks\":\"\",\"zerolinecolor\":\"white\",\"gridwidth\":2},\"yaxis\":{\"backgroundcolor\":\"#E5ECF6\",\"gridcolor\":\"white\",\"linecolor\":\"white\",\"showbackground\":true,\"ticks\":\"\",\"zerolinecolor\":\"white\",\"gridwidth\":2},\"zaxis\":{\"backgroundcolor\":\"#E5ECF6\",\"gridcolor\":\"white\",\"linecolor\":\"white\",\"showbackground\":true,\"ticks\":\"\",\"zerolinecolor\":\"white\",\"gridwidth\":2}},\"shapedefaults\":{\"line\":{\"color\":\"#2a3f5f\"}},\"annotationdefaults\":{\"arrowcolor\":\"#2a3f5f\",\"arrowhead\":0,\"arrowwidth\":1},\"geo\":{\"bgcolor\":\"white\",\"landcolor\":\"#E5ECF6\",\"subunitcolor\":\"white\",\"showland\":true,\"showlakes\":true,\"lakecolor\":\"white\"},\"title\":{\"x\":0.05},\"mapbox\":{\"style\":\"light\"}}},\"xaxis\":{\"anchor\":\"y\",\"domain\":[0.0,1.0],\"title\":{\"text\":\"Scenario\"}},\"yaxis\":{\"anchor\":\"x\",\"domain\":[0.0,1.0],\"title\":{\"text\":\"FCR_kg_kg\"}},\"legend\":{\"tracegroupgap\":0},\"margin\":{\"t\":60},\"boxmode\":\"group\",\"height\":500},                        {\"responsive\": true}                    ).then(function(){\n",
       "                            \n",
       "var gd = document.getElementById('fa67b504-ed21-4018-8647-f1ca126631b0');\n",
       "var x = new MutationObserver(function (mutations, observer) {{\n",
       "        var display = window.getComputedStyle(gd).display;\n",
       "        if (!display || display === 'none') {{\n",
       "            console.log([gd, 'removed!']);\n",
       "            Plotly.purge(gd);\n",
       "            observer.disconnect();\n",
       "        }}\n",
       "}});\n",
       "\n",
       "// Listen for the removal of the full notebook cells\n",
       "var notebookContainer = gd.closest('#notebook-container');\n",
       "if (notebookContainer) {{\n",
       "    x.observe(notebookContainer, {childList: true});\n",
       "}}\n",
       "\n",
       "// Listen for the clearing of the current output cell\n",
       "var outputEl = gd.closest('.output');\n",
       "if (outputEl) {{\n",
       "    x.observe(outputEl, {childList: true});\n",
       "}}\n",
       "\n",
       "                        })                };                });            </script>        </div>"
      ]
     },
     "metadata": {},
     "output_type": "display_data"
    }
   ],
   "source": [
    "# performances = {}\n",
    "performances[param['scenario']] = pd.read_csv(\"Performances %s .txt\" % (param['scenario']), sep=' ', header =0)\n",
    "FCR_kg_kg = px.box(performances[param['scenario']],y='FCR_kg_kg', height = 500)\n",
    "FCR_kg_kg.show()\n",
    "\n",
    "performances_tot = pd.concat([performances['Step1_multiphase_Variability0'],performances['Step1_multiphase']], axis=0)\n",
    "FCR_kg_kg = px.box(performances_tot,x='Scenario', y='FCR_kg_kg', height = 500)\n",
    "FCR_kg_kg.show()"
   ]
  },
  {
   "cell_type": "code",
   "execution_count": null,
   "id": "36ed2cb4-97ea-470a-8788-ea56c1da5c5d",
   "metadata": {},
   "outputs": [],
   "source": []
  }
 ],
 "metadata": {
  "kernelspec": {
   "display_name": "Python 3 (ipykernel)",
   "language": "python",
   "name": "python3"
  },
  "language_info": {
   "codemirror_mode": {
    "name": "ipython",
    "version": 3
   },
   "file_extension": ".py",
   "mimetype": "text/x-python",
   "name": "python",
   "nbconvert_exporter": "python",
   "pygments_lexer": "ipython3",
   "version": "3.11.6"
  }
 },
 "nbformat": 4,
 "nbformat_minor": 5
}
